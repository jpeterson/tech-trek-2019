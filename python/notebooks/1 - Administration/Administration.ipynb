{
 "cells": [
  {
   "cell_type": "markdown",
   "metadata": {
    "heading_collapsed": true,
    "slideshow": {
     "slide_type": "slide"
    }
   },
   "source": [
    "# Python @ Esri"
   ]
  },
  {
   "cell_type": "markdown",
   "metadata": {
    "heading_collapsed": true,
    "slideshow": {
     "slide_type": "slide"
    }
   },
   "source": [
    "# Topics\n",
    "\n",
    "- Administering your GIS\n",
    "- Working with Users\n",
    "- Advanced Workflows"
   ]
  },
  {
   "cell_type": "markdown",
   "metadata": {
    "heading_collapsed": true,
    "slideshow": {
     "slide_type": "slide"
    }
   },
   "source": [
    "# Connecting to your GIS"
   ]
  },
  {
   "cell_type": "markdown",
   "metadata": {
    "hidden": true
   },
   "source": [
    "First we need to grab the `GIS` module."
   ]
  },
  {
   "cell_type": "code",
   "execution_count": 133,
   "metadata": {
    "hidden": true
   },
   "outputs": [],
   "source": [
    "from arcgis.gis import GIS"
   ]
  },
  {
   "cell_type": "markdown",
   "metadata": {
    "heading_collapsed": true,
    "hidden": true
   },
   "source": [
    "## Where is your GIS?"
   ]
  },
  {
   "cell_type": "markdown",
   "metadata": {
    "hidden": true
   },
   "source": [
    "ArcGIS Online is the default GIS."
   ]
  },
  {
   "cell_type": "code",
   "execution_count": 134,
   "metadata": {
    "hidden": true
   },
   "outputs": [
    {
     "data": {
      "text/html": [
       "GIS @ <a href=\"https://www.arcgis.com\">https://www.arcgis.com</a>"
      ],
      "text/plain": [
       "GIS @ https://www.arcgis.com version:7.1"
      ]
     },
     "execution_count": 134,
     "metadata": {},
     "output_type": "execute_result"
    }
   ],
   "source": [
    "from arcgis.gis import GIS\n",
    "\n",
    "# ArcGIS Online is the default\n",
    "GIS()"
   ]
  },
  {
   "cell_type": "markdown",
   "metadata": {
    "hidden": true
   },
   "source": [
    "If you need to be more specific, use the `url` argument.\n",
    "\n",
    "Here we'll connect to a specific **ArcGIS Online Organization**."
   ]
  },
  {
   "cell_type": "code",
   "execution_count": 135,
   "metadata": {
    "hidden": true
   },
   "outputs": [
    {
     "data": {
      "text/html": [
       "GIS @ <a href=\"https://dbsne.maps.arcgis.com\">https://dbsne.maps.arcgis.com</a>"
      ],
      "text/plain": [
       "GIS @ https://dbsne.maps.arcgis.com version:7.1"
      ]
     },
     "execution_count": 135,
     "metadata": {},
     "output_type": "execute_result"
    }
   ],
   "source": [
    "# connect to an organization\n",
    "GIS(url='https://dbsne.maps.arcgis.com')"
   ]
  },
  {
   "cell_type": "markdown",
   "metadata": {
    "hidden": true
   },
   "source": [
    "And this time, to an **ArcGIS Enterprise**."
   ]
  },
  {
   "cell_type": "code",
   "execution_count": 136,
   "metadata": {
    "hidden": true
   },
   "outputs": [
    {
     "data": {
      "text/html": [
       "GIS @ <a href=\"https://esri.northeurope.cloudapp.azure.com/portal\">https://esri.northeurope.cloudapp.azure.com/portal</a>"
      ],
      "text/plain": [
       "GIS @ https://esri.northeurope.cloudapp.azure.com/portal version:7.1"
      ]
     },
     "execution_count": 136,
     "metadata": {},
     "output_type": "execute_result"
    }
   ],
   "source": [
    "# conect to ArcGIS Enterprise\n",
    "GIS(url='https://esri.northeurope.cloudapp.azure.com/portal')"
   ]
  },
  {
   "cell_type": "markdown",
   "metadata": {
    "hidden": true,
    "slideshow": {
     "slide_type": "slide"
    }
   },
   "source": [
    "## Authentication"
   ]
  },
  {
   "cell_type": "markdown",
   "metadata": {
    "hidden": true,
    "slideshow": {
     "slide_type": "slide"
    }
   },
   "source": [
    "If no authentication scheme is used, your connection will be **anonymous**."
   ]
  },
  {
   "cell_type": "code",
   "execution_count": 137,
   "metadata": {
    "hidden": true,
    "slideshow": {
     "slide_type": "slide"
    }
   },
   "outputs": [
    {
     "name": "stdout",
     "output_type": "stream",
     "text": [
      "None\n"
     ]
    }
   ],
   "source": [
    "# connect anonymously\n",
    "gis = GIS()\n",
    "\n",
    "print(gis.users.me )"
   ]
  },
  {
   "cell_type": "markdown",
   "metadata": {
    "hidden": true
   },
   "source": [
    "The most basic way to authenticate is with a username and password."
   ]
  },
  {
   "cell_type": "code",
   "execution_count": 138,
   "metadata": {
    "hidden": true
   },
   "outputs": [
    {
     "data": {
      "text/html": [
       "<div class=\"9item_container\" style=\"height: auto; overflow: hidden; border: 1px solid #cfcfcf; border-radius: 2px; background: #f6fafa; line-height: 1.21429em; padding: 10px;\">\n",
       "                    <div class=\"item_left\" style=\"width: 210px; float: left;\">\n",
       "                       <a href='https://DBSNE.maps.arcgis.com/home/user.html?user=tech_trekkie' target='_blank'>\n",
       "                        <img src='data:image/png;base64,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' width='200' height='133' class=\"itemThumbnail\">\n",
       "                       </a>\n",
       "                    </div>\n",
       "\n",
       "                    <div class=\"item_right\" style=\"float: none; width: auto; overflow: hidden;\">\n",
       "                        <a href='https://DBSNE.maps.arcgis.com/home/user.html?user=tech_trekkie' target='_blank'><b>Tech Trekkie</b>\n",
       "                        </a>\n",
       "                        <br/><br/><b>Bio</b>: \n",
       "                        <br/><b>First Name</b>: Tech\n",
       "                        <br/><b>Last Name</b>: Trekkie\n",
       "                        <br/><b>Username</b>: tech_trekkie\n",
       "                        <br/><b>Joined</b>: May 27, 2019\n",
       "\n",
       "                    </div>\n",
       "                </div>\n",
       "                "
      ],
      "text/plain": [
       "<User username:tech_trekkie>"
      ]
     },
     "execution_count": 138,
     "metadata": {},
     "output_type": "execute_result"
    }
   ],
   "source": [
    "# username and password\n",
    "gis = GIS(\n",
    "  username='tech_trekkie',\n",
    "  password='SidTheKid87'\n",
    ")\n",
    "\n",
    "gis.users.me"
   ]
  },
  {
   "cell_type": "markdown",
   "metadata": {
    "hidden": true
   },
   "source": [
    "My favorite way to authenticate is with **Profiles** to store credentials using my operating system."
   ]
  },
  {
   "cell_type": "code",
   "execution_count": 139,
   "metadata": {
    "hidden": true
   },
   "outputs": [
    {
     "data": {
      "text/html": [
       "<div class=\"9item_container\" style=\"height: auto; overflow: hidden; border: 1px solid #cfcfcf; border-radius: 2px; background: #f6fafa; line-height: 1.21429em; padding: 10px;\">\n",
       "                    <div class=\"item_left\" style=\"width: 210px; float: left;\">\n",
       "                       <a href='https://DBSNE.maps.arcgis.com/home/user.html?user=tech_trekkie' target='_blank'>\n",
       "                        <img src='data:image/png;base64,/9j/4AAQSkZJRgABAgAAAQABAAD/2wBDAAgGBgcGBQgHBwcJCQgKDBQNDAsLDBkSEw8UHRofHh0aHBwgJC4nICIsIxwcKDcpLDAxNDQ0Hyc5PTgyPC4zNDL/2wBDAQkJCQwLDBgNDRgyIRwhMjIyMjIyMjIyMjIyMjIyMjIyMjIyMjIyMjIyMjIyMjIyMjIyMjIyMjIyMjIyMjIyMjL/wAARCACWAJYDASIAAhEBAxEB/8QAHwAAAQUBAQEBAQEAAAAAAAAAAAECAwQFBgcICQoL/8QAtRAAAgEDAwIEAwUFBAQAAAF9AQIDAAQRBRIhMUEGE1FhByJxFDKBkaEII0KxwRVS0fAkM2JyggkKFhcYGRolJicoKSo0NTY3ODk6Q0RFRkdISUpTVFVWV1hZWmNkZWZnaGlqc3R1dnd4eXqDhIWGh4iJipKTlJWWl5iZmqKjpKWmp6ipqrKztLW2t7i5usLDxMXGx8jJytLT1NXW19jZ2uHi4+Tl5ufo6erx8vP09fb3+Pn6/8QAHwEAAwEBAQEBAQEBAQAAAAAAAAECAwQFBgcICQoL/8QAtREAAgECBAQDBAcFBAQAAQJ3AAECAxEEBSExBhJBUQdhcRMiMoEIFEKRobHBCSMzUvAVYnLRChYkNOEl8RcYGRomJygpKjU2Nzg5OkNERUZHSElKU1RVVldYWVpjZGVmZ2hpanN0dXZ3eHl6goOEhYaHiImKkpOUlZaXmJmaoqOkpaanqKmqsrO0tba3uLm6wsPExcbHyMnK0tPU1dbX2Nna4uPk5ebn6Onq8vP09fb3+Pn6/9oADAMBAAIRAxEAPwD3+iiigAoopN3vQAtJmql7qFrp1s891MscYHVu/sPWvH/FHxlnBmtfDscSMv8Ay8zfNj8OmaAPa80hNeUeHvisj+GIn1BfP1JExKchN2By7DsK5fWvidrOsIYra4a3ik/1aWq4Zvcse3vQB7ZqfiDSdHUG+v4YWIyFLfMfwHNM0XxHpPiCOV9Mu1mERxINpUr9QQDXzJdMS5NxLI29vmbJPP8AtHkkVa0a8l0m4luodYgWR0KNFG5Xep6g+goA+o1nilXdHIrDPJU5rA1/xxoHhe7t7fVr8wzXClkRYmchc4ydoOB7mvDdF8S3mnTNPb3BEaHjysqg9NzH71YuveILrWtUlvbmQSTEhd5HYdMe3oO2TQB9TWGoWepWqXVjcxXFu4yskTBgR9RVrOa+XPBPim98M65HLHKxtpRtuICTtb3x2PuK9r0nx9Fd3UUN/brbiZiIpI33r7Z44oA7kUVHvVMB2A3HAyev0p+aAFopBS0AFFFFABRRTScdaAEZwilmIUAZJPQVyGofETQrS2ujBO11PCCRFGhG45wPmIwBn8cdM1y3xX8V3un39volhcCFZIvNudqgl8nhMnoOM/jXmT3Uxj8x1UOzbiEG0Fjkgn8vxyOwBABP4t8UalruoSLPdlnVQJFjOEiH/PNB2HqepNcwQsagSBBk5Kr6elWIImE7k5Jzyx7nr/M0htUVCzHJJ2jP60ARNl4wqKVhbGQDy+PX2q/EBaRmdzhpOAB1PstJOqRzwrjgKMAVPuDsDxlQdvtQBE9tcXMYcusTHjZnOPr71XFvHESgm85/7sYyPxPSrMwRyPOc7QMBF4B9z60qOu3aPlUdlFADY7ZpRun+4PuIrYUfhTZoI05kGB2VBwallnEERk6sPurTLMM5E8p3M5OFPQD1oABCGh2uoiLdMDkfWmyXFzaQFo7po5AQBjjP5dfrVgH7TOSeET071VuY4zKQw8z0HpQBIuuaveXtvNNqF1J5MiurNIx2EcgjHevoPwh44stZtHiv7qCC/gbY4dwok7hlyffHHQ186R+Y0mwqFXHUggfp1qS9Q21vbb41Z3mMjbufkAxg8dDk0AfXAIBI6d6dXlfw28Y3Dzr4c1WRpCFDWFy/JZMZCMe5A6HvivUlORQA6iiigArjfGvjePwrCsMMJnvpVJRM/Ko7Mf8AAV2VeK/FO8tLfxMNrLLcm2VRGoyV5Jy1AHDarrF/4l1JrvUYoQeDvxt4HQVTnuUlQFCCiy7SPQgYqldlJFZ5GbcefUCuw8NeCYbzSBNqTXKNcESJFGwXagGAT6kjJqJzUNyo03PY5RZAPOwPmXn6dKz3uPMhznJDEjFeoQ/DOwW6SRNRuxEf9ZGyqdw9M9vrVq6+Ffh+6cNA13aZ7Rybhn6Gs/bwNFQmeTzXJYxSg54wTSSzuqjb1NejH4OoH41xygzgGAf0NA+EP+jMRrZ+0/wL9nwn4nOapV6YvYVDze4uDIynPReQKRbgiNSucmu8svhHqkk0i6hqMEEA+60A8wsfUA9BU918JL5IHe01SCabHEUkRQNj37H68U/bQ7i9lNdDz6d3lVFDck1aNwEWNVIGP5D/APXXS2nwq8R3M4Ny9lYoAD5jS+ac+gVeauQfCDVHmP2nVLKNAOHjRmLn6dqPaw7h7KfY46KZIgw+YFvm59KbazoTLOwY46cV38fwdlMGZvECecQfu252/mealX4P2qWyoddufMx8xWBdv4DNL28F1H7KfY86jl8wsxbJY9D0Aq7q2p77xRa4fYq5bAIY9PyGB+ZrvovhbpcESq+o3zuM4cYUD8BWBrPgy80uJ54E+2WyL8zRJiUY9V7/AIUKtFuyB0ZLcxrLX7yK8hngghe+BUJKwI2EHKnAr6Q8Jarcaz4dtr28EYuWyJfLBClgcEgHpXy9A07yRyQoI0B+XkZr3/4beIIrnShpkuEuYiSq4xvHetWZX1O/opBRQAtfOnxAsjZ+M9WmZ90ckquC3JyVHy19E5r568Vef4g8V3ECqFL3DICRwqDIJ/Q0m7IaV2L4T8MwXG3Vb6Iv/FbROeB/tMvrnsa76IAsTgYOCB6e2ao2iIlvEiZKIAo/AYBIq5CwxnPHrXm1JuUrM76cLI0IiMdKmUiqiMc4wfyqUNUGhYD4Oc0pkJ71W3mjfQMsb+KN4+v41X3mkDUCLQcduPoKAwz059ar7qN5o1EWcg0hxjrUIelLHFAIR8c96py8fMBgjoand+MkgfWqspOcGi/YZ51490BoYRrdiAiAhbqJRkDPRwPXsan+HGqOfFmmQXELxOxLLIBjeNpGP5V2FzbJf2lzZyH93NGUI+vevOfBN8dF8Tw2163mR205I3ZLRMODg+mOv4V3Yed46nFWik9D6YTAGO3aimowdQwOVPIPtRXQYA5ARuexrxKD97reoTcHZGq7h7sf5ivWNf1uDSLPMqs7zZVEXr05NeTaXD5SXvJOZo4we52pWNWfus2pR965vQL8o2kY9zXJ6h8UNG0+Z4bKC5vmU4MkeET3wxOT/KtLXbDUtW0sabp88dolx8tzdSHJEf8AcUDqT39B9azrT4eeGNMtS99HJdlUw8txJtVB2wB0rkpqC+I6Zud7IS1+LWiSv/plnfWueN2wOP8Ax0k11mkeJNG1sH+z9SglcdY921x9Qea8uv7PwQzB7TTdVeInAkgn2KR6gN1FOtvA2havNt03xDcwXQ+eOCdFz9VYcn+dbSpQZkqk7nsuWBIIIx1zRmua8L6N4i0aNodU1uG/tNoESeWd6H/ePaujrmmknZHTFtodmjNN5oqRjt1KCSabSjqPY0bgOUliAKx9W8W6BorFL/VYElUZMMZ3yf8AfK5rF8QeHPFOvXUka+JYbTTycLFBCysV/wBog8n9K4668G+FdIuXgutYvry4T78UCKm0/wC03b+dbwpQfUxnUkjdvPi/pCSeXa6dfzg9HbEYPvyc1paF450XxFdLaRLPaXrA7YZwMOQM/KRkE+3WuW0qy8AeYVuNMvUPG6S6nLoPckdBWvqPwy0ydlutFuZ9OuEIkiwxeIEcrjuM+oq3CmtLEKU3qdcpIlB7D1ri76wRviTDb7VVb6WMsAOu7hvz5rqLKS+e2ibURGL1RslMTZRz/eH1647VlX6xxfEbw9eOhdUhLEdOUZj/AFqKMuWRVb3o3SPcY41jjVEACqMADsKKradfxajZrPCTg8EHqD6Giu5O6ucbVjh/HEhbXYYyf9XACPbJOf5CubgTbaSMMDfOSPyFdV48tdl5Z3oB2upiY/7Q5Uf+hflXMgYtIMcfvGrgrXUmjto2cUXIT8pHBzzkiuD+JmvPbxrpUTkGVAz49MkD+Vd3DXmvxP0m4OsW1+qsY7iEQ9P415A/EHj6H0oopOauOrflujhodauPPjWZw0IyCoroUvvIjW8tpQssfzoR1yOcVyz2Lhzxj2NL5ErKERmO7+FcnPOP513yijhi2fSOg6kusaHY6iPl+0xK5H+1jn6d606xfCenyaT4W0+wlXEkUKhyf7x5xWzXmT+Jnow+FC0UhOB0pA4J2jrjNSUOpaaORmnUAYPjPWz4f8K318n+uChI/wDeY4FeNw3SXUKymTBflsnqfevWPiHpk2reDb2K3GZI9swUcltpyQK8DEciDakg246Z5ruw6XKcde9zS1HV5o7pfsr7SvHsR6V6R8MNakv9Hks533S2ZHl+yNnH5HP515H9kdiN2SCenc16h8LNKmt4L/UZF2xyFYYsZ+bB3MfpkgfgaddJRJoN3O9kPz59T61VubbzdUsLrtFHLGcj1I/+vU79Rj1pZiPs0YJx87EfXjFcKbR3aM6/wXIRDeRkkkOrn6kH/CineCrYrpU1wf8AltL8pPdV4/nmiu+m3yo8+pbmZt6rpkOrafLaT9H5DDqp7GvNtT0u40jyLa4KFyzFShwGXjH0NesYrivHduc2k4AC5KE/rUYiGnMXQnaVjm4DkcU+7sLXUrKS0u4hNA67WU/Xgj0NQ25q6hrjV1qjsa6HCXfwzWS4ZrXUikbdEmTJHtkda1vD/gLT9Huo7y4kN5dqcqWUBEPY47n611IxnJ604NzmtHVlaxCpxuTjr1OOvNOzUIel31lctD2bFZ0czALNz80jL+FWpAJI2QkjIxkVnJpfl3Hmi9u2yfuNJ8v5UDubIxgHuRTgag34x645pwegLkhA6kA+mea4fWvhvp99cvcWE/2N5CWaIpuj3dyO4rtd9NL1UZuJMoqR5/YfDG3ilD32oNKmMMkCbd3sSea7NIY7a3WCFFjhQbUROiirLvnsPwqvI2QacpuW4RjGOxSkYKeT3qzY2B1i+s7JWaMMZHkcDog28e2Sf0qlKc59RXaeDLD9w+ovkGVPKVe20EnP15qqMeaRFWXKjp7W3jtLaO3iULHGoVVHYCiplXA60V6K0OC7FrG8Sae1/o0yIu6RBvQe4rapu0EDPOKmUVJWY07O55BCccZ56/4irqSDFbXiTwzNFNJf6cm9GO6SBRyD3K/4Vx6X4A5Ugjg54xXnSpOLO6E1JG0JF9aXzFx1rKF+MZytKb9efmFTZlmoJV9aXzBWT9uHqKBqCj/9dFmM1vNX1pDIp71lHUVpDqCnvRZiua5kBNJ5oHesj7enrSi/X1H50WYGt5y+tJ5q+tZX28YPIpp1Ibc8UWYGsZlweaqy3C4NUH1AHjOPqRUC3LzSLHGC8jnARQSx+gFNRbE2kWfmuJ0iiDM7naMD1r1rSrNbDTYbZf8AlmuCffvXN+FfDDWRW+v1/wBK/gj/AOef19/5V2AGK7KFPlV2clafM7IcKKKK6DEKSloxQA0rxWVqfh3StWJa8s43kPHmj5X/ADHWtYjiopJFjQu7hFAySe1JpPcab6HmXifwpo2iW/nx3t0txNuWC23BjM4BOBnHYV5RfeINQ0+SNZbSPDoWVt5wcfhXoWuavJreorqju32bBaxh7KOQHb/axkgds557ef8Ail2S5tNg+VkdT7c1yKUJVeVHYoTjSc5GYfHN5jK6cG+ktIvju5LANYqnqWc4H6ViSwRs/KDI9B1qI2wPyoWGew7+1dHsonN7WR2tn4hvLiULJbIinur549fpW2ZZBEHL4yMgYrz/AEsSwyrGZf3DcZ/uHpuH49q6Vhfm3CRPHLcbtjoSNqkdc49ufT3rGUEmbxldDr3X7q1Y+XAsoUcndis5vGF/sL/YYwi8ljKcfyqErdaherZadZNf3EhIUqQEOOpAOOOvLHH6VQ1rRNZsJkh1q0ubZiu5EbYFC98YOOO/pkeoqoQu7Mmc7K6LQ8fz5yLLj/f5Ndj4G1XSPFl8mn32oz6dfyHEabA0cp9A2eD7GvKhZl08xGxH/eYdP8a3NE0W4W7gnhs7uTa4YFRsII7jPI+tU400tTNSnLY+kLX4aaWjk3V1eTn+7uCKfwFdRpuiabpKbbGzih4wSq/MfqTzWd4N1WfV/DsE13G8dymY5FfGcg8H8Rg10NXFR6ESctmIFFOoxRVkhRRRQAUUUUAITgE1xPxJn1SHw4Dp0kCAtvn8wnlB1UYHeiiplsVHc8f0rxIuvRyXLRvHKgBfOCG44xWP4ju8va4QY3Ec0UV5sIpV9D05ybo2OcnAWbPbPNRiRTJtBYEDk49geOaKK9I8vqdA3hPVI/Bo8Vl7P7B5iqUWV/N5O0cbcdT/AHqpyakzlwFxLNGI5H9VXqAO2TjP0oooaVyk9Dpfhq7HxxDjGPs0hPJ9VH9ayNZudWu9I0RdVmhmiFqTbbB823C538fMflHJJoorKTandBvA0/DmlRC1tdRnxLLc8wKfuwryOnrx1rrorIRxrIzElvmGD/PPeiivCrzlKq02e/QjFUk0j0PwPPviu4QDhSr5Jz1GP6V14oor36K9xHg1n+8YtFFFamYUUUUAf//Z' width='200' height='133' class=\"itemThumbnail\">\n",
       "                       </a>\n",
       "                    </div>\n",
       "\n",
       "                    <div class=\"item_right\" style=\"float: none; width: auto; overflow: hidden;\">\n",
       "                        <a href='https://DBSNE.maps.arcgis.com/home/user.html?user=tech_trekkie' target='_blank'><b>Tech Trekkie</b>\n",
       "                        </a>\n",
       "                        <br/><br/><b>Bio</b>: \n",
       "                        <br/><b>First Name</b>: Tech\n",
       "                        <br/><b>Last Name</b>: Trekkie\n",
       "                        <br/><b>Username</b>: tech_trekkie\n",
       "                        <br/><b>Joined</b>: May 27, 2019\n",
       "\n",
       "                    </div>\n",
       "                </div>\n",
       "                "
      ],
      "text/plain": [
       "<User username:tech_trekkie>"
      ]
     },
     "execution_count": 139,
     "metadata": {},
     "output_type": "execute_result"
    }
   ],
   "source": [
    "# save a profile ⭐\n",
    "gis = GIS(\n",
    "  username='tech_trekkie',\n",
    "  password='SidTheKid87',\n",
    "  profile='tech_trek_profile'\n",
    ")\n",
    "\n",
    "gis.users.me"
   ]
  },
  {
   "cell_type": "markdown",
   "metadata": {
    "hidden": true
   },
   "source": [
    "Now you can use those stored credentials! (uses [keyring](https://pypi.org/project/keyring/))."
   ]
  },
  {
   "cell_type": "code",
   "execution_count": 140,
   "metadata": {
    "hidden": true
   },
   "outputs": [
    {
     "data": {
      "text/html": [
       "<div class=\"9item_container\" style=\"height: auto; overflow: hidden; border: 1px solid #cfcfcf; border-radius: 2px; background: #f6fafa; line-height: 1.21429em; padding: 10px;\">\n",
       "                    <div class=\"item_left\" style=\"width: 210px; float: left;\">\n",
       "                       <a href='https://DBSNE.maps.arcgis.com/home/user.html?user=tech_trekkie' target='_blank'>\n",
       "                        <img src='data:image/png;base64,/9j/4AAQSkZJRgABAgAAAQABAAD/2wBDAAgGBgcGBQgHBwcJCQgKDBQNDAsLDBkSEw8UHRofHh0aHBwgJC4nICIsIxwcKDcpLDAxNDQ0Hyc5PTgyPC4zNDL/2wBDAQkJCQwLDBgNDRgyIRwhMjIyMjIyMjIyMjIyMjIyMjIyMjIyMjIyMjIyMjIyMjIyMjIyMjIyMjIyMjIyMjIyMjL/wAARCACWAJYDASIAAhEBAxEB/8QAHwAAAQUBAQEBAQEAAAAAAAAAAAECAwQFBgcICQoL/8QAtRAAAgEDAwIEAwUFBAQAAAF9AQIDAAQRBRIhMUEGE1FhByJxFDKBkaEII0KxwRVS0fAkM2JyggkKFhcYGRolJicoKSo0NTY3ODk6Q0RFRkdISUpTVFVWV1hZWmNkZWZnaGlqc3R1dnd4eXqDhIWGh4iJipKTlJWWl5iZmqKjpKWmp6ipqrKztLW2t7i5usLDxMXGx8jJytLT1NXW19jZ2uHi4+Tl5ufo6erx8vP09fb3+Pn6/8QAHwEAAwEBAQEBAQEBAQAAAAAAAAECAwQFBgcICQoL/8QAtREAAgECBAQDBAcFBAQAAQJ3AAECAxEEBSExBhJBUQdhcRMiMoEIFEKRobHBCSMzUvAVYnLRChYkNOEl8RcYGRomJygpKjU2Nzg5OkNERUZHSElKU1RVVldYWVpjZGVmZ2hpanN0dXZ3eHl6goOEhYaHiImKkpOUlZaXmJmaoqOkpaanqKmqsrO0tba3uLm6wsPExcbHyMnK0tPU1dbX2Nna4uPk5ebn6Onq8vP09fb3+Pn6/9oADAMBAAIRAxEAPwD3+iiigAoopN3vQAtJmql7qFrp1s891MscYHVu/sPWvH/FHxlnBmtfDscSMv8Ay8zfNj8OmaAPa80hNeUeHvisj+GIn1BfP1JExKchN2By7DsK5fWvidrOsIYra4a3ik/1aWq4Zvcse3vQB7ZqfiDSdHUG+v4YWIyFLfMfwHNM0XxHpPiCOV9Mu1mERxINpUr9QQDXzJdMS5NxLI29vmbJPP8AtHkkVa0a8l0m4luodYgWR0KNFG5Xep6g+goA+o1nilXdHIrDPJU5rA1/xxoHhe7t7fVr8wzXClkRYmchc4ydoOB7mvDdF8S3mnTNPb3BEaHjysqg9NzH71YuveILrWtUlvbmQSTEhd5HYdMe3oO2TQB9TWGoWepWqXVjcxXFu4yskTBgR9RVrOa+XPBPim98M65HLHKxtpRtuICTtb3x2PuK9r0nx9Fd3UUN/brbiZiIpI33r7Z44oA7kUVHvVMB2A3HAyev0p+aAFopBS0AFFFFABRRTScdaAEZwilmIUAZJPQVyGofETQrS2ujBO11PCCRFGhG45wPmIwBn8cdM1y3xX8V3un39volhcCFZIvNudqgl8nhMnoOM/jXmT3Uxj8x1UOzbiEG0Fjkgn8vxyOwBABP4t8UalruoSLPdlnVQJFjOEiH/PNB2HqepNcwQsagSBBk5Kr6elWIImE7k5Jzyx7nr/M0htUVCzHJJ2jP60ARNl4wqKVhbGQDy+PX2q/EBaRmdzhpOAB1PstJOqRzwrjgKMAVPuDsDxlQdvtQBE9tcXMYcusTHjZnOPr71XFvHESgm85/7sYyPxPSrMwRyPOc7QMBF4B9z60qOu3aPlUdlFADY7ZpRun+4PuIrYUfhTZoI05kGB2VBwallnEERk6sPurTLMM5E8p3M5OFPQD1oABCGh2uoiLdMDkfWmyXFzaQFo7po5AQBjjP5dfrVgH7TOSeET071VuY4zKQw8z0HpQBIuuaveXtvNNqF1J5MiurNIx2EcgjHevoPwh44stZtHiv7qCC/gbY4dwok7hlyffHHQ186R+Y0mwqFXHUggfp1qS9Q21vbb41Z3mMjbufkAxg8dDk0AfXAIBI6d6dXlfw28Y3Dzr4c1WRpCFDWFy/JZMZCMe5A6HvivUlORQA6iiigArjfGvjePwrCsMMJnvpVJRM/Ko7Mf8AAV2VeK/FO8tLfxMNrLLcm2VRGoyV5Jy1AHDarrF/4l1JrvUYoQeDvxt4HQVTnuUlQFCCiy7SPQgYqldlJFZ5GbcefUCuw8NeCYbzSBNqTXKNcESJFGwXagGAT6kjJqJzUNyo03PY5RZAPOwPmXn6dKz3uPMhznJDEjFeoQ/DOwW6SRNRuxEf9ZGyqdw9M9vrVq6+Ffh+6cNA13aZ7Rybhn6Gs/bwNFQmeTzXJYxSg54wTSSzuqjb1NejH4OoH41xygzgGAf0NA+EP+jMRrZ+0/wL9nwn4nOapV6YvYVDze4uDIynPReQKRbgiNSucmu8svhHqkk0i6hqMEEA+60A8wsfUA9BU918JL5IHe01SCabHEUkRQNj37H68U/bQ7i9lNdDz6d3lVFDck1aNwEWNVIGP5D/APXXS2nwq8R3M4Ny9lYoAD5jS+ac+gVeauQfCDVHmP2nVLKNAOHjRmLn6dqPaw7h7KfY46KZIgw+YFvm59KbazoTLOwY46cV38fwdlMGZvECecQfu252/mealX4P2qWyoddufMx8xWBdv4DNL28F1H7KfY86jl8wsxbJY9D0Aq7q2p77xRa4fYq5bAIY9PyGB+ZrvovhbpcESq+o3zuM4cYUD8BWBrPgy80uJ54E+2WyL8zRJiUY9V7/AIUKtFuyB0ZLcxrLX7yK8hngghe+BUJKwI2EHKnAr6Q8Jarcaz4dtr28EYuWyJfLBClgcEgHpXy9A07yRyQoI0B+XkZr3/4beIIrnShpkuEuYiSq4xvHetWZX1O/opBRQAtfOnxAsjZ+M9WmZ90ckquC3JyVHy19E5r568Vef4g8V3ECqFL3DICRwqDIJ/Q0m7IaV2L4T8MwXG3Vb6Iv/FbROeB/tMvrnsa76IAsTgYOCB6e2ao2iIlvEiZKIAo/AYBIq5CwxnPHrXm1JuUrM76cLI0IiMdKmUiqiMc4wfyqUNUGhYD4Oc0pkJ71W3mjfQMsb+KN4+v41X3mkDUCLQcduPoKAwz059ar7qN5o1EWcg0hxjrUIelLHFAIR8c96py8fMBgjoand+MkgfWqspOcGi/YZ51490BoYRrdiAiAhbqJRkDPRwPXsan+HGqOfFmmQXELxOxLLIBjeNpGP5V2FzbJf2lzZyH93NGUI+vevOfBN8dF8Tw2163mR205I3ZLRMODg+mOv4V3Yed46nFWik9D6YTAGO3aimowdQwOVPIPtRXQYA5ARuexrxKD97reoTcHZGq7h7sf5ivWNf1uDSLPMqs7zZVEXr05NeTaXD5SXvJOZo4we52pWNWfus2pR965vQL8o2kY9zXJ6h8UNG0+Z4bKC5vmU4MkeET3wxOT/KtLXbDUtW0sabp88dolx8tzdSHJEf8AcUDqT39B9azrT4eeGNMtS99HJdlUw8txJtVB2wB0rkpqC+I6Zud7IS1+LWiSv/plnfWueN2wOP8Ax0k11mkeJNG1sH+z9SglcdY921x9Qea8uv7PwQzB7TTdVeInAkgn2KR6gN1FOtvA2havNt03xDcwXQ+eOCdFz9VYcn+dbSpQZkqk7nsuWBIIIx1zRmua8L6N4i0aNodU1uG/tNoESeWd6H/ePaujrmmknZHTFtodmjNN5oqRjt1KCSabSjqPY0bgOUliAKx9W8W6BorFL/VYElUZMMZ3yf8AfK5rF8QeHPFOvXUka+JYbTTycLFBCysV/wBog8n9K4668G+FdIuXgutYvry4T78UCKm0/wC03b+dbwpQfUxnUkjdvPi/pCSeXa6dfzg9HbEYPvyc1paF450XxFdLaRLPaXrA7YZwMOQM/KRkE+3WuW0qy8AeYVuNMvUPG6S6nLoPckdBWvqPwy0ydlutFuZ9OuEIkiwxeIEcrjuM+oq3CmtLEKU3qdcpIlB7D1ri76wRviTDb7VVb6WMsAOu7hvz5rqLKS+e2ibURGL1RslMTZRz/eH1647VlX6xxfEbw9eOhdUhLEdOUZj/AFqKMuWRVb3o3SPcY41jjVEACqMADsKKradfxajZrPCTg8EHqD6Giu5O6ucbVjh/HEhbXYYyf9XACPbJOf5CubgTbaSMMDfOSPyFdV48tdl5Z3oB2upiY/7Q5Uf+hflXMgYtIMcfvGrgrXUmjto2cUXIT8pHBzzkiuD+JmvPbxrpUTkGVAz49MkD+Vd3DXmvxP0m4OsW1+qsY7iEQ9P415A/EHj6H0oopOauOrflujhodauPPjWZw0IyCoroUvvIjW8tpQssfzoR1yOcVyz2Lhzxj2NL5ErKERmO7+FcnPOP513yijhi2fSOg6kusaHY6iPl+0xK5H+1jn6d606xfCenyaT4W0+wlXEkUKhyf7x5xWzXmT+Jnow+FC0UhOB0pA4J2jrjNSUOpaaORmnUAYPjPWz4f8K318n+uChI/wDeY4FeNw3SXUKymTBflsnqfevWPiHpk2reDb2K3GZI9swUcltpyQK8DEciDakg246Z5ruw6XKcde9zS1HV5o7pfsr7SvHsR6V6R8MNakv9Hks533S2ZHl+yNnH5HP515H9kdiN2SCenc16h8LNKmt4L/UZF2xyFYYsZ+bB3MfpkgfgaddJRJoN3O9kPz59T61VubbzdUsLrtFHLGcj1I/+vU79Rj1pZiPs0YJx87EfXjFcKbR3aM6/wXIRDeRkkkOrn6kH/CineCrYrpU1wf8AltL8pPdV4/nmiu+m3yo8+pbmZt6rpkOrafLaT9H5DDqp7GvNtT0u40jyLa4KFyzFShwGXjH0NesYrivHduc2k4AC5KE/rUYiGnMXQnaVjm4DkcU+7sLXUrKS0u4hNA67WU/Xgj0NQ25q6hrjV1qjsa6HCXfwzWS4ZrXUikbdEmTJHtkda1vD/gLT9Huo7y4kN5dqcqWUBEPY47n611IxnJ604NzmtHVlaxCpxuTjr1OOvNOzUIel31lctD2bFZ0czALNz80jL+FWpAJI2QkjIxkVnJpfl3Hmi9u2yfuNJ8v5UDubIxgHuRTgag34x645pwegLkhA6kA+mea4fWvhvp99cvcWE/2N5CWaIpuj3dyO4rtd9NL1UZuJMoqR5/YfDG3ilD32oNKmMMkCbd3sSea7NIY7a3WCFFjhQbUROiirLvnsPwqvI2QacpuW4RjGOxSkYKeT3qzY2B1i+s7JWaMMZHkcDog28e2Sf0qlKc59RXaeDLD9w+ovkGVPKVe20EnP15qqMeaRFWXKjp7W3jtLaO3iULHGoVVHYCiplXA60V6K0OC7FrG8Sae1/o0yIu6RBvQe4rapu0EDPOKmUVJWY07O55BCccZ56/4irqSDFbXiTwzNFNJf6cm9GO6SBRyD3K/4Vx6X4A5Ugjg54xXnSpOLO6E1JG0JF9aXzFx1rKF+MZytKb9efmFTZlmoJV9aXzBWT9uHqKBqCj/9dFmM1vNX1pDIp71lHUVpDqCnvRZiua5kBNJ5oHesj7enrSi/X1H50WYGt5y+tJ5q+tZX28YPIpp1Ibc8UWYGsZlweaqy3C4NUH1AHjOPqRUC3LzSLHGC8jnARQSx+gFNRbE2kWfmuJ0iiDM7naMD1r1rSrNbDTYbZf8AlmuCffvXN+FfDDWRW+v1/wBK/gj/AOef19/5V2AGK7KFPlV2clafM7IcKKKK6DEKSloxQA0rxWVqfh3StWJa8s43kPHmj5X/ADHWtYjiopJFjQu7hFAySe1JpPcab6HmXifwpo2iW/nx3t0txNuWC23BjM4BOBnHYV5RfeINQ0+SNZbSPDoWVt5wcfhXoWuavJreorqju32bBaxh7KOQHb/axkgds557ef8Ail2S5tNg+VkdT7c1yKUJVeVHYoTjSc5GYfHN5jK6cG+ktIvju5LANYqnqWc4H6ViSwRs/KDI9B1qI2wPyoWGew7+1dHsonN7WR2tn4hvLiULJbIinur549fpW2ZZBEHL4yMgYrz/AEsSwyrGZf3DcZ/uHpuH49q6Vhfm3CRPHLcbtjoSNqkdc49ufT3rGUEmbxldDr3X7q1Y+XAsoUcndis5vGF/sL/YYwi8ljKcfyqErdaherZadZNf3EhIUqQEOOpAOOOvLHH6VQ1rRNZsJkh1q0ubZiu5EbYFC98YOOO/pkeoqoQu7Mmc7K6LQ8fz5yLLj/f5Ndj4G1XSPFl8mn32oz6dfyHEabA0cp9A2eD7GvKhZl08xGxH/eYdP8a3NE0W4W7gnhs7uTa4YFRsII7jPI+tU400tTNSnLY+kLX4aaWjk3V1eTn+7uCKfwFdRpuiabpKbbGzih4wSq/MfqTzWd4N1WfV/DsE13G8dymY5FfGcg8H8Rg10NXFR6ESctmIFFOoxRVkhRRRQAUUUUAITgE1xPxJn1SHw4Dp0kCAtvn8wnlB1UYHeiiplsVHc8f0rxIuvRyXLRvHKgBfOCG44xWP4ju8va4QY3Ec0UV5sIpV9D05ybo2OcnAWbPbPNRiRTJtBYEDk49geOaKK9I8vqdA3hPVI/Bo8Vl7P7B5iqUWV/N5O0cbcdT/AHqpyakzlwFxLNGI5H9VXqAO2TjP0oooaVyk9Dpfhq7HxxDjGPs0hPJ9VH9ayNZudWu9I0RdVmhmiFqTbbB823C538fMflHJJoorKTandBvA0/DmlRC1tdRnxLLc8wKfuwryOnrx1rrorIRxrIzElvmGD/PPeiivCrzlKq02e/QjFUk0j0PwPPviu4QDhSr5Jz1GP6V14oor36K9xHg1n+8YtFFFamYUUUUAf//Z' width='200' height='133' class=\"itemThumbnail\">\n",
       "                       </a>\n",
       "                    </div>\n",
       "\n",
       "                    <div class=\"item_right\" style=\"float: none; width: auto; overflow: hidden;\">\n",
       "                        <a href='https://DBSNE.maps.arcgis.com/home/user.html?user=tech_trekkie' target='_blank'><b>Tech Trekkie</b>\n",
       "                        </a>\n",
       "                        <br/><br/><b>Bio</b>: \n",
       "                        <br/><b>First Name</b>: Tech\n",
       "                        <br/><b>Last Name</b>: Trekkie\n",
       "                        <br/><b>Username</b>: tech_trekkie\n",
       "                        <br/><b>Joined</b>: May 27, 2019\n",
       "\n",
       "                    </div>\n",
       "                </div>\n",
       "                "
      ],
      "text/plain": [
       "<User username:tech_trekkie>"
      ]
     },
     "execution_count": 140,
     "metadata": {},
     "output_type": "execute_result"
    }
   ],
   "source": [
    "new_gis_who_dis = GIS(profile='tech_trek_profile')\n",
    "\n",
    "new_gis_who_dis.users.me"
   ]
  },
  {
   "cell_type": "markdown",
   "metadata": {
    "hidden": true
   },
   "source": [
    "Another super easy way to connect is by using ArcGIS Pro's stored credentials.\n",
    "\n",
    "⚠️This requires ArcPy!"
   ]
  },
  {
   "cell_type": "code",
   "execution_count": null,
   "metadata": {
    "hidden": true
   },
   "outputs": [],
   "source": [
    "# Use active Portal in ArcGIS Pro\n",
    "gis = GIS('pro')\n",
    "\n",
    "gis"
   ]
  },
  {
   "cell_type": "markdown",
   "metadata": {},
   "source": [
    "# Working with Users"
   ]
  },
  {
   "cell_type": "markdown",
   "metadata": {},
   "source": [
    "Let's set up our GIS connection."
   ]
  },
  {
   "cell_type": "code",
   "execution_count": 172,
   "metadata": {},
   "outputs": [
    {
     "data": {
      "text/html": [
       "GIS @ <a href=\"https://esri.northeurope.cloudapp.azure.com/portal\">https://esri.northeurope.cloudapp.azure.com/portal</a>"
      ],
      "text/plain": [
       "GIS @ https://esri.northeurope.cloudapp.azure.com/portal version:7.1"
      ]
     },
     "execution_count": 172,
     "metadata": {},
     "output_type": "execute_result"
    }
   ],
   "source": [
    "gis = GIS(profile='portal')\n",
    "gis"
   ]
  },
  {
   "cell_type": "markdown",
   "metadata": {},
   "source": [
    "## Who are our Users?"
   ]
  },
  {
   "cell_type": "markdown",
   "metadata": {},
   "source": [
    "Let's see a breakdown of the users in our GIS by fetching user counts by type.\n",
    "\n",
    "❗The result is going to be a `pandas` DataFrame."
   ]
  },
  {
   "cell_type": "code",
   "execution_count": 142,
   "metadata": {},
   "outputs": [
    {
     "data": {
      "text/html": [
       "<div>\n",
       "<style scoped>\n",
       "    .dataframe tbody tr th:only-of-type {\n",
       "        vertical-align: middle;\n",
       "    }\n",
       "\n",
       "    .dataframe tbody tr th {\n",
       "        vertical-align: top;\n",
       "    }\n",
       "\n",
       "    .dataframe thead th {\n",
       "        text-align: right;\n",
       "    }\n",
       "</style>\n",
       "<table border=\"1\" class=\"dataframe\">\n",
       "  <thead>\n",
       "    <tr style=\"text-align: right;\">\n",
       "      <th></th>\n",
       "      <th>count</th>\n",
       "      <th>key</th>\n",
       "    </tr>\n",
       "  </thead>\n",
       "  <tbody>\n",
       "    <tr>\n",
       "      <th>0</th>\n",
       "      <td>4</td>\n",
       "      <td>basicUT</td>\n",
       "    </tr>\n",
       "    <tr>\n",
       "      <th>1</th>\n",
       "      <td>123</td>\n",
       "      <td>creatorUT</td>\n",
       "    </tr>\n",
       "    <tr>\n",
       "      <th>2</th>\n",
       "      <td>6</td>\n",
       "      <td>editorUT</td>\n",
       "    </tr>\n",
       "    <tr>\n",
       "      <th>3</th>\n",
       "      <td>15</td>\n",
       "      <td>fieldWorkerUT</td>\n",
       "    </tr>\n",
       "    <tr>\n",
       "      <th>4</th>\n",
       "      <td>13</td>\n",
       "      <td>GISProfessionalAdvUT</td>\n",
       "    </tr>\n",
       "  </tbody>\n",
       "</table>\n",
       "</div>"
      ],
      "text/plain": [
       "   count                   key\n",
       "0      4               basicUT\n",
       "1    123             creatorUT\n",
       "2      6              editorUT\n",
       "3     15         fieldWorkerUT\n",
       "4     13  GISProfessionalAdvUT"
      ]
     },
     "execution_count": 142,
     "metadata": {},
     "output_type": "execute_result"
    }
   ],
   "source": [
    "# get users by user type\n",
    "df = gis.users.counts(type='user_type')\n",
    "df"
   ]
  },
  {
   "cell_type": "markdown",
   "metadata": {},
   "source": [
    "We can leverage `pandas` to quickly get a total count of users."
   ]
  },
  {
   "cell_type": "code",
   "execution_count": 143,
   "metadata": {},
   "outputs": [
    {
     "data": {
      "text/plain": [
       "161"
      ]
     },
     "execution_count": 143,
     "metadata": {},
     "output_type": "execute_result"
    }
   ],
   "source": [
    "# using pandas dataframe\n",
    "df['count'].sum()"
   ]
  },
  {
   "cell_type": "markdown",
   "metadata": {},
   "source": [
    "## Creating a User"
   ]
  },
  {
   "cell_type": "markdown",
   "metadata": {},
   "source": [
    "Let's first see what is needed to create a user."
   ]
  },
  {
   "cell_type": "code",
   "execution_count": 150,
   "metadata": {},
   "outputs": [],
   "source": [
    "# Open the help for the `arcgis.gis.users.create()` method\n",
    "gis.users.create?"
   ]
  },
  {
   "cell_type": "markdown",
   "metadata": {},
   "source": [
    "The first thing we need to know more about is the password policy. [Read the docs](https://developers.arcgis.com/rest/users-groups-and-items/update-security-policy.htm)."
   ]
  },
  {
   "cell_type": "code",
   "execution_count": 151,
   "metadata": {},
   "outputs": [
    {
     "data": {
      "text/plain": [
       "{\n",
       "  \"passwordPolicy\": {\n",
       "    \"type\": \"custom\",\n",
       "    \"minLength\": 8,\n",
       "    \"minUpper\": 1,\n",
       "    \"minLetter\": 1,\n",
       "    \"minDigit\": 1,\n",
       "    \"historySize\": 5,\n",
       "    \"created\": 1559005666510,\n",
       "    \"modified\": 1559005750783\n",
       "  }\n",
       "}"
      ]
     },
     "execution_count": 151,
     "metadata": {},
     "output_type": "execute_result"
    }
   ],
   "source": [
    "gis.admin.password_policy.policy"
   ]
  },
  {
   "cell_type": "markdown",
   "metadata": {},
   "source": [
    "Next, we need to understand the **roles** in this GIS. It's important to get this value dynamically from the GIS, as these ID's could change in future releases."
   ]
  },
  {
   "cell_type": "code",
   "execution_count": 152,
   "metadata": {},
   "outputs": [
    {
     "data": {
      "text/plain": [
       "[<Role name: Viewer, description: Viewer>,\n",
       " <Role name: Data Editor, description: Data Editor>,\n",
       " <Role name: GIS4SW Attendee, description: role for GIS4SW attendees>]"
      ]
     },
     "execution_count": 152,
     "metadata": {},
     "output_type": "execute_result"
    }
   ],
   "source": [
    "roles = gis.users.roles.all()\n",
    "roles"
   ]
  },
  {
   "cell_type": "markdown",
   "metadata": {},
   "source": [
    "Let's create a **Data Editor**. We'll need the `role_id` in order to create this user."
   ]
  },
  {
   "cell_type": "code",
   "execution_count": 154,
   "metadata": {},
   "outputs": [
    {
     "data": {
      "text/plain": [
       "'iBBBBBBBBBBBBBBB'"
      ]
     },
     "execution_count": 154,
     "metadata": {},
     "output_type": "execute_result"
    }
   ],
   "source": [
    "role_id = roles[1].role_id\n",
    "role_id"
   ]
  },
  {
   "cell_type": "markdown",
   "metadata": {},
   "source": [
    "Now we have what we need from the GIS – let's create a new user."
   ]
  },
  {
   "cell_type": "code",
   "execution_count": 155,
   "metadata": {},
   "outputs": [
    {
     "data": {
      "text/html": [
       "<div class=\"9item_container\" style=\"height: auto; overflow: hidden; border: 1px solid #cfcfcf; border-radius: 2px; background: #f6fafa; line-height: 1.21429em; padding: 10px;\">\n",
       "                    <div class=\"item_left\" style=\"width: 210px; float: left;\">\n",
       "                       <a href='https://esri.northeurope.cloudapp.azure.com/portal/home/user.html?user=obi_wan_esri' target='_blank'>\n",
       "                        <img src='https://esri.northeurope.cloudapp.azure.com/portal/home/js/arcgisonline/css/images/no-user-thumb.jpg' class=\"itemThumbnail\">\n",
       "                       </a>\n",
       "                    </div>\n",
       "\n",
       "                    <div class=\"item_right\" style=\"float: none; width: auto; overflow: hidden;\">\n",
       "                        <a href='https://esri.northeurope.cloudapp.azure.com/portal/home/user.html?user=obi_wan_esri' target='_blank'><b>Ben Kenobi</b>\n",
       "                        </a>\n",
       "                        <br/><br/><b>Bio</b>: None\n",
       "                        <br/><b>First Name</b>: Ben\n",
       "                        <br/><b>Last Name</b>: Kenobi\n",
       "                        <br/><b>Username</b>: obi_wan_esri\n",
       "                        <br/><b>Joined</b>: May 30, 2019\n",
       "\n",
       "                    </div>\n",
       "                </div>\n",
       "                "
      ],
      "text/plain": [
       "<User username:obi_wan_esri>"
      ]
     },
     "execution_count": 155,
     "metadata": {},
     "output_type": "execute_result"
    }
   ],
   "source": [
    "user = gis.users.create(username=\"obi_wan_esri\",\n",
    "                password='Us3Th3F0rc3',\n",
    "                firstname=\"Ben\",\n",
    "                lastname=\"Kenobi\",\n",
    "                email=\"bkenobi@esri.com\",\n",
    "                role=role_id, # ⚠️ Avoid hardcoding this.\n",
    "                user_type=\"creatorUT\")\n",
    "user"
   ]
  },
  {
   "cell_type": "markdown",
   "metadata": {},
   "source": [
    "And to prove this user exists in the GIS, let's search for them..."
   ]
  },
  {
   "cell_type": "code",
   "execution_count": 156,
   "metadata": {},
   "outputs": [
    {
     "data": {
      "text/html": [
       "<div class=\"9item_container\" style=\"height: auto; overflow: hidden; border: 1px solid #cfcfcf; border-radius: 2px; background: #f6fafa; line-height: 1.21429em; padding: 10px;\">\n",
       "                    <div class=\"item_left\" style=\"width: 210px; float: left;\">\n",
       "                       <a href='https://esri.northeurope.cloudapp.azure.com/portal/home/user.html?user=obi_wan_esri' target='_blank'>\n",
       "                        <img src='https://esri.northeurope.cloudapp.azure.com/portal/home/js/arcgisonline/css/images/no-user-thumb.jpg' class=\"itemThumbnail\">\n",
       "                       </a>\n",
       "                    </div>\n",
       "\n",
       "                    <div class=\"item_right\" style=\"float: none; width: auto; overflow: hidden;\">\n",
       "                        <a href='https://esri.northeurope.cloudapp.azure.com/portal/home/user.html?user=obi_wan_esri' target='_blank'><b>Ben Kenobi</b>\n",
       "                        </a>\n",
       "                        <br/><br/><b>Bio</b>: None\n",
       "                        <br/><b>First Name</b>: Ben\n",
       "                        <br/><b>Last Name</b>: Kenobi\n",
       "                        <br/><b>Username</b>: obi_wan_esri\n",
       "                        <br/><b>Joined</b>: May 30, 2019\n",
       "\n",
       "                    </div>\n",
       "                </div>\n",
       "                "
      ],
      "text/plain": [
       "<User username:obi_wan_esri>"
      ]
     },
     "execution_count": 156,
     "metadata": {},
     "output_type": "execute_result"
    }
   ],
   "source": [
    "user = gis.users.get('obi_wan_esri')\n",
    "user"
   ]
  },
  {
   "cell_type": "markdown",
   "metadata": {
    "heading_collapsed": true
   },
   "source": [
    "## Editing a User"
   ]
  },
  {
   "cell_type": "markdown",
   "metadata": {
    "hidden": true
   },
   "source": [
    "Editing the properties of a user is super simple with `update`."
   ]
  },
  {
   "cell_type": "code",
   "execution_count": 157,
   "metadata": {
    "hidden": true
   },
   "outputs": [
    {
     "data": {
      "text/plain": [
       "True"
      ]
     },
     "execution_count": 157,
     "metadata": {},
     "output_type": "execute_result"
    }
   ],
   "source": [
    "user.update(first_name='Obi Wan', thumbnail='./data/obi_wan.png')"
   ]
  },
  {
   "cell_type": "markdown",
   "metadata": {
    "hidden": true
   },
   "source": [
    "And to verify our changes..."
   ]
  },
  {
   "cell_type": "code",
   "execution_count": 158,
   "metadata": {
    "hidden": true
   },
   "outputs": [
    {
     "data": {
      "text/html": [
       "<div class=\"9item_container\" style=\"height: auto; overflow: hidden; border: 1px solid #cfcfcf; border-radius: 2px; background: #f6fafa; line-height: 1.21429em; padding: 10px;\">\n",
       "                    <div class=\"item_left\" style=\"width: 210px; float: left;\">\n",
       "                       <a href='https://esri.northeurope.cloudapp.azure.com/portal/home/user.html?user=obi_wan_esri' target='_blank'>\n",
       "                        <img src='data:image/png;base64,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' width='200' height='133' class=\"itemThumbnail\">\n",
       "                       </a>\n",
       "                    </div>\n",
       "\n",
       "                    <div class=\"item_right\" style=\"float: none; width: auto; overflow: hidden;\">\n",
       "                        <a href='https://esri.northeurope.cloudapp.azure.com/portal/home/user.html?user=obi_wan_esri' target='_blank'><b>Obi Wan</b>\n",
       "                        </a>\n",
       "                        <br/><br/><b>Bio</b>: None\n",
       "                        <br/><b>First Name</b>: Obi Wan\n",
       "                        <br/><b>Last Name</b>: Kenobi\n",
       "                        <br/><b>Username</b>: obi_wan_esri\n",
       "                        <br/><b>Joined</b>: May 30, 2019\n",
       "\n",
       "                    </div>\n",
       "                </div>\n",
       "                "
      ],
      "text/plain": [
       "<User username:obi_wan_esri>"
      ]
     },
     "execution_count": 158,
     "metadata": {},
     "output_type": "execute_result"
    }
   ],
   "source": [
    "user"
   ]
  },
  {
   "cell_type": "markdown",
   "metadata": {
    "heading_collapsed": true
   },
   "source": [
    "## Working with a User's Items"
   ]
  },
  {
   "cell_type": "markdown",
   "metadata": {
    "hidden": true
   },
   "source": [
    "First, let's double check that this user doesn't have any items yet."
   ]
  },
  {
   "cell_type": "code",
   "execution_count": 159,
   "metadata": {
    "hidden": true
   },
   "outputs": [
    {
     "data": {
      "text/plain": [
       "[]"
      ]
     },
     "execution_count": 159,
     "metadata": {},
     "output_type": "execute_result"
    }
   ],
   "source": [
    "user.items()"
   ]
  },
  {
   "cell_type": "markdown",
   "metadata": {
    "hidden": true
   },
   "source": [
    "Let's add a dataset and publish it as a Feature Layer on behalf of the user."
   ]
  },
  {
   "cell_type": "code",
   "execution_count": null,
   "metadata": {
    "hidden": true
   },
   "outputs": [],
   "source": [
    "user"
   ]
  },
  {
   "cell_type": "code",
   "execution_count": 160,
   "metadata": {
    "hidden": true
   },
   "outputs": [
    {
     "data": {
      "text/plain": [
       "'org_admin'"
      ]
     },
     "execution_count": 160,
     "metadata": {},
     "output_type": "execute_result"
    }
   ],
   "source": [
    "gis.users.me.role"
   ]
  },
  {
   "cell_type": "code",
   "execution_count": 162,
   "metadata": {
    "hidden": true
   },
   "outputs": [
    {
     "ename": "KeyboardInterrupt",
     "evalue": "",
     "output_type": "error",
     "traceback": [
      "\u001b[0;31m---------------------------------------------------------------------------\u001b[0m",
      "\u001b[0;31mKeyboardInterrupt\u001b[0m                         Traceback (most recent call last)",
      "\u001b[0;32m<ipython-input-162-3f3389af299b>\u001b[0m in \u001b[0;36m<module>\u001b[0;34m\u001b[0m\n\u001b[1;32m      6\u001b[0m }\n\u001b[1;32m      7\u001b[0m \u001b[0mshp_item\u001b[0m \u001b[0;34m=\u001b[0m \u001b[0mgis\u001b[0m\u001b[0;34m.\u001b[0m\u001b[0mcontent\u001b[0m\u001b[0;34m.\u001b[0m\u001b[0madd\u001b[0m\u001b[0;34m(\u001b[0m\u001b[0mdata\u001b[0m\u001b[0;34m=\u001b[0m\u001b[0mfp\u001b[0m\u001b[0;34m,\u001b[0m \u001b[0mitem_properties\u001b[0m\u001b[0;34m=\u001b[0m\u001b[0mitem_properties\u001b[0m\u001b[0;34m,\u001b[0m \u001b[0mowner\u001b[0m\u001b[0;34m=\u001b[0m\u001b[0muser\u001b[0m\u001b[0;34m)\u001b[0m\u001b[0;34m\u001b[0m\u001b[0;34m\u001b[0m\u001b[0m\n\u001b[0;32m----> 8\u001b[0;31m \u001b[0mcrimes_item\u001b[0m \u001b[0;34m=\u001b[0m \u001b[0mshp_item\u001b[0m\u001b[0;34m.\u001b[0m\u001b[0mpublish\u001b[0m\u001b[0;34m(\u001b[0m\u001b[0;34m)\u001b[0m\u001b[0;34m\u001b[0m\u001b[0;34m\u001b[0m\u001b[0m\n\u001b[0m\u001b[1;32m      9\u001b[0m \u001b[0mcrimes_item\u001b[0m\u001b[0;34m\u001b[0m\u001b[0;34m\u001b[0m\u001b[0m\n",
      "\u001b[0;32m~/anaconda3/lib/python3.7/site-packages/arcgis/gis/__init__.py\u001b[0m in \u001b[0;36mpublish\u001b[0;34m(self, publish_parameters, address_fields, output_type, overwrite, file_type, build_initial_cache)\u001b[0m\n\u001b[1;32m   8133\u001b[0m             \u001b[0;32mreturn\u001b[0m \u001b[0mItem\u001b[0m\u001b[0;34m(\u001b[0m\u001b[0mself\u001b[0m\u001b[0;34m.\u001b[0m\u001b[0m_gis\u001b[0m\u001b[0;34m,\u001b[0m \u001b[0mret\u001b[0m\u001b[0;34m[\u001b[0m\u001b[0;36m0\u001b[0m\u001b[0;34m]\u001b[0m\u001b[0;34m[\u001b[0m\u001b[0;34m'serviceItemId'\u001b[0m\u001b[0;34m]\u001b[0m\u001b[0;34m)\u001b[0m\u001b[0;34m\u001b[0m\u001b[0;34m\u001b[0m\u001b[0m\n\u001b[1;32m   8134\u001b[0m         \u001b[0;32melse\u001b[0m\u001b[0;34m:\u001b[0m\u001b[0;34m\u001b[0m\u001b[0;34m\u001b[0m\u001b[0m\n\u001b[0;32m-> 8135\u001b[0;31m             \u001b[0mserviceitem_id\u001b[0m \u001b[0;34m=\u001b[0m \u001b[0mself\u001b[0m\u001b[0;34m.\u001b[0m\u001b[0m_check_publish_status\u001b[0m\u001b[0;34m(\u001b[0m\u001b[0mret\u001b[0m\u001b[0;34m,\u001b[0m \u001b[0mfolder\u001b[0m\u001b[0;34m)\u001b[0m\u001b[0;34m\u001b[0m\u001b[0;34m\u001b[0m\u001b[0m\n\u001b[0m\u001b[1;32m   8136\u001b[0m         \u001b[0;32mreturn\u001b[0m \u001b[0mItem\u001b[0m\u001b[0;34m(\u001b[0m\u001b[0mself\u001b[0m\u001b[0;34m.\u001b[0m\u001b[0m_gis\u001b[0m\u001b[0;34m,\u001b[0m \u001b[0mserviceitem_id\u001b[0m\u001b[0;34m)\u001b[0m\u001b[0;34m\u001b[0m\u001b[0;34m\u001b[0m\u001b[0m\n\u001b[1;32m   8137\u001b[0m \u001b[0;34m\u001b[0m\u001b[0m\n",
      "\u001b[0;32m~/anaconda3/lib/python3.7/site-packages/arcgis/gis/__init__.py\u001b[0m in \u001b[0;36m_check_publish_status\u001b[0;34m(self, ret, folder)\u001b[0m\n\u001b[1;32m   8354\u001b[0m             \u001b[0;32mif\u001b[0m \u001b[0;34m\"status\"\u001b[0m \u001b[0;32min\u001b[0m \u001b[0mjob_response\u001b[0m\u001b[0;34m:\u001b[0m\u001b[0;34m\u001b[0m\u001b[0;34m\u001b[0m\u001b[0m\n\u001b[1;32m   8355\u001b[0m                 \u001b[0;32mwhile\u001b[0m \u001b[0;32mnot\u001b[0m \u001b[0mjob_response\u001b[0m\u001b[0;34m.\u001b[0m\u001b[0mget\u001b[0m\u001b[0;34m(\u001b[0m\u001b[0;34m\"status\"\u001b[0m\u001b[0;34m)\u001b[0m \u001b[0;34m==\u001b[0m \u001b[0;34m\"completed\"\u001b[0m\u001b[0;34m:\u001b[0m\u001b[0;34m\u001b[0m\u001b[0;34m\u001b[0m\u001b[0m\n\u001b[0;32m-> 8356\u001b[0;31m                     \u001b[0mtime\u001b[0m\u001b[0;34m.\u001b[0m\u001b[0msleep\u001b[0m\u001b[0;34m(\u001b[0m\u001b[0;36m5\u001b[0m\u001b[0;34m)\u001b[0m\u001b[0;34m\u001b[0m\u001b[0;34m\u001b[0m\u001b[0m\n\u001b[0m\u001b[1;32m   8357\u001b[0m \u001b[0;34m\u001b[0m\u001b[0m\n\u001b[1;32m   8358\u001b[0m                     \u001b[0mjob_response\u001b[0m \u001b[0;34m=\u001b[0m \u001b[0mself\u001b[0m\u001b[0;34m.\u001b[0m\u001b[0m_portal\u001b[0m\u001b[0;34m.\u001b[0m\u001b[0mcon\u001b[0m\u001b[0;34m.\u001b[0m\u001b[0mpost\u001b[0m\u001b[0;34m(\u001b[0m\u001b[0mpath\u001b[0m\u001b[0;34m,\u001b[0m \u001b[0mparams\u001b[0m\u001b[0;34m)\u001b[0m\u001b[0;34m\u001b[0m\u001b[0;34m\u001b[0m\u001b[0m\n",
      "\u001b[0;31mKeyboardInterrupt\u001b[0m: "
     ]
    }
   ],
   "source": [
    "fp = \"./data/crimes6.zip\"\n",
    "item_properties = {\n",
    "    'title' : \"Crimes 6\",\n",
    "    'type' : 'Shapefile',\n",
    "    'tags' : ['Crimes']\n",
    "}\n",
    "shp_item = gis.content.add(data=fp, item_properties=item_properties, owner=user)\n",
    "crimes_item = shp_item.publish()\n",
    "crimes_item"
   ]
  },
  {
   "cell_type": "code",
   "execution_count": 163,
   "metadata": {
    "hidden": true,
    "scrolled": true
   },
   "outputs": [
    {
     "data": {
      "text/plain": [
       "[<Item title:\"Crimes 5\" type:Shapefile owner:obi_wan_esri>,\n",
       " <Item title:\"Crimes 6\" type:Shapefile owner:obi_wan_esri>,\n",
       " <Item title:\"Crimes 6\" type:Feature Layer Collection owner:obi_wan_esri>]"
      ]
     },
     "execution_count": 163,
     "metadata": {},
     "output_type": "execute_result"
    }
   ],
   "source": [
    "user.items()"
   ]
  },
  {
   "cell_type": "markdown",
   "metadata": {},
   "source": [
    "## Managing Credits"
   ]
  },
  {
   "cell_type": "markdown",
   "metadata": {},
   "source": [
    "Credits only apply to ArcGIS Online Organizations"
   ]
  },
  {
   "cell_type": "code",
   "execution_count": 170,
   "metadata": {},
   "outputs": [
    {
     "data": {
      "text/plain": [
       "-1.0"
      ]
     },
     "execution_count": 170,
     "metadata": {},
     "output_type": "execute_result"
    }
   ],
   "source": [
    "gis = GIS(profile='joshdbs')\n",
    "user = gis.users.get('tech_trekkie')\n",
    "user.assignedCredits"
   ]
  },
  {
   "cell_type": "markdown",
   "metadata": {},
   "source": [
    "Total number of credits in the Organization"
   ]
  },
  {
   "cell_type": "code",
   "execution_count": 165,
   "metadata": {},
   "outputs": [
    {
     "data": {
      "text/plain": [
       "26180.088"
      ]
     },
     "execution_count": 165,
     "metadata": {},
     "output_type": "execute_result"
    }
   ],
   "source": [
    "# note that credit allocation can be disabled!\n",
    "#gis.admin.credits.enable()\n",
    "\n",
    "gis.admin.credits.credits"
   ]
  },
  {
   "cell_type": "markdown",
   "metadata": {},
   "source": [
    "Default credit limit"
   ]
  },
  {
   "cell_type": "code",
   "execution_count": 166,
   "metadata": {},
   "outputs": [
    {
     "data": {
      "text/plain": [
       "25"
      ]
     },
     "execution_count": 166,
     "metadata": {},
     "output_type": "execute_result"
    }
   ],
   "source": [
    "gis.admin.credits.default_limit"
   ]
  },
  {
   "cell_type": "markdown",
   "metadata": {},
   "source": [
    "Available credits (for a user)"
   ]
  },
  {
   "cell_type": "code",
   "execution_count": 167,
   "metadata": {},
   "outputs": [
    {
     "data": {
      "text/plain": [
       "1000.0"
      ]
     },
     "execution_count": 167,
     "metadata": {},
     "output_type": "execute_result"
    }
   ],
   "source": [
    "user.assignedCredits"
   ]
  },
  {
   "cell_type": "markdown",
   "metadata": {},
   "source": [
    "Allocate Credits"
   ]
  },
  {
   "cell_type": "code",
   "execution_count": null,
   "metadata": {},
   "outputs": [],
   "source": [
    "gis.admin.credits.allocate(username=user.username, credits=1000)\n",
    "user.availableCredits"
   ]
  },
  {
   "cell_type": "code",
   "execution_count": null,
   "metadata": {},
   "outputs": [],
   "source": [
    "user.availableCredits"
   ]
  },
  {
   "cell_type": "code",
   "execution_count": 169,
   "metadata": {},
   "outputs": [
    {
     "data": {
      "text/plain": [
       "1000.0"
      ]
     },
     "execution_count": 169,
     "metadata": {},
     "output_type": "execute_result"
    }
   ],
   "source": [
    "user.availableCredits"
   ]
  },
  {
   "cell_type": "markdown",
   "metadata": {},
   "source": [
    "Deallocate Credits"
   ]
  },
  {
   "cell_type": "code",
   "execution_count": 168,
   "metadata": {},
   "outputs": [
    {
     "data": {
      "text/plain": [
       "1000.0"
      ]
     },
     "execution_count": 168,
     "metadata": {},
     "output_type": "execute_result"
    }
   ],
   "source": [
    "gis.admin.credits.deallocate(username=user.username)\n",
    "user.assignedCredits"
   ]
  },
  {
   "cell_type": "markdown",
   "metadata": {},
   "source": [
    "## Deleting a User"
   ]
  },
  {
   "cell_type": "markdown",
   "metadata": {},
   "source": [
    "We can delete our user with a single method. Note that users cannot be deleted if they own content – the `reassign_to` argument makes it easy to reassign content before deleting."
   ]
  },
  {
   "cell_type": "code",
   "execution_count": null,
   "metadata": {},
   "outputs": [],
   "source": []
  },
  {
   "cell_type": "code",
   "execution_count": 173,
   "metadata": {},
   "outputs": [
    {
     "data": {
      "text/plain": [
       "[<Item title:\"Crimes 5\" type:Shapefile owner:obi_wan_esri>,\n",
       " <Item title:\"Crimes 6\" type:Shapefile owner:obi_wan_esri>,\n",
       " <Item title:\"Crimes 6\" type:Feature Layer Collection owner:obi_wan_esri>]"
      ]
     },
     "execution_count": 173,
     "metadata": {},
     "output_type": "execute_result"
    }
   ],
   "source": [
    "user = gis.users.get('obi_wan_esri')\n",
    "user.items()"
   ]
  },
  {
   "cell_type": "code",
   "execution_count": 174,
   "metadata": {},
   "outputs": [
    {
     "name": "stderr",
     "output_type": "stream",
     "text": [
      "Unable to delete user. User must not own items or groups.\n"
     ]
    },
    {
     "ename": "RuntimeError",
     "evalue": "Unable to delete user. User must not own items or groups.\n(Error Code: 400)",
     "output_type": "error",
     "traceback": [
      "\u001b[0;31m---------------------------------------------------------------------------\u001b[0m",
      "\u001b[0;31mRuntimeError\u001b[0m                              Traceback (most recent call last)",
      "\u001b[0;32m<ipython-input-174-da112720c459>\u001b[0m in \u001b[0;36m<module>\u001b[0;34m\u001b[0m\n\u001b[0;32m----> 1\u001b[0;31m \u001b[0muser\u001b[0m\u001b[0;34m.\u001b[0m\u001b[0mdelete\u001b[0m\u001b[0;34m(\u001b[0m\u001b[0;34m)\u001b[0m\u001b[0;34m\u001b[0m\u001b[0;34m\u001b[0m\u001b[0m\n\u001b[0m",
      "\u001b[0;32m~/anaconda3/lib/python3.7/site-packages/arcgis/gis/__init__.py\u001b[0m in \u001b[0;36mdelete\u001b[0;34m(self, reassign_to)\u001b[0m\n\u001b[1;32m   6041\u001b[0m         \u001b[0;32mif\u001b[0m \u001b[0misinstance\u001b[0m\u001b[0;34m(\u001b[0m\u001b[0mreassign_to\u001b[0m\u001b[0;34m,\u001b[0m \u001b[0mUser\u001b[0m\u001b[0;34m)\u001b[0m\u001b[0;34m:\u001b[0m\u001b[0;34m\u001b[0m\u001b[0;34m\u001b[0m\u001b[0m\n\u001b[1;32m   6042\u001b[0m             \u001b[0mreassign_to\u001b[0m \u001b[0;34m=\u001b[0m \u001b[0mreassign_to\u001b[0m\u001b[0;34m.\u001b[0m\u001b[0musername\u001b[0m\u001b[0;34m\u001b[0m\u001b[0;34m\u001b[0m\u001b[0m\n\u001b[0;32m-> 6043\u001b[0;31m         \u001b[0;32mreturn\u001b[0m \u001b[0mself\u001b[0m\u001b[0;34m.\u001b[0m\u001b[0m_portal\u001b[0m\u001b[0;34m.\u001b[0m\u001b[0mdelete_user\u001b[0m\u001b[0;34m(\u001b[0m\u001b[0mself\u001b[0m\u001b[0;34m.\u001b[0m\u001b[0m_user_id\u001b[0m\u001b[0;34m,\u001b[0m \u001b[0mreassign_to\u001b[0m\u001b[0;34m)\u001b[0m\u001b[0;34m\u001b[0m\u001b[0;34m\u001b[0m\u001b[0m\n\u001b[0m\u001b[1;32m   6044\u001b[0m \u001b[0;34m\u001b[0m\u001b[0m\n\u001b[1;32m   6045\u001b[0m     \u001b[0;32mdef\u001b[0m \u001b[0mreassign_to\u001b[0m\u001b[0;34m(\u001b[0m\u001b[0mself\u001b[0m\u001b[0;34m,\u001b[0m \u001b[0mtarget_username\u001b[0m\u001b[0;34m)\u001b[0m\u001b[0;34m:\u001b[0m\u001b[0;34m\u001b[0m\u001b[0;34m\u001b[0m\u001b[0m\n",
      "\u001b[0;32m~/anaconda3/lib/python3.7/site-packages/arcgis/_impl/portalpy.py\u001b[0m in \u001b[0;36mdelete_user\u001b[0;34m(self, username, reassign_to)\u001b[0m\n\u001b[1;32m    820\u001b[0m         \u001b[0;32mif\u001b[0m \u001b[0mreassign_to\u001b[0m \u001b[0;34m:\u001b[0m\u001b[0;34m\u001b[0m\u001b[0;34m\u001b[0m\u001b[0m\n\u001b[1;32m    821\u001b[0m             \u001b[0mself\u001b[0m\u001b[0;34m.\u001b[0m\u001b[0mreassign_user\u001b[0m\u001b[0;34m(\u001b[0m\u001b[0musername\u001b[0m\u001b[0;34m,\u001b[0m \u001b[0mreassign_to\u001b[0m\u001b[0;34m)\u001b[0m\u001b[0;34m\u001b[0m\u001b[0;34m\u001b[0m\u001b[0m\n\u001b[0;32m--> 822\u001b[0;31m         \u001b[0mresp\u001b[0m \u001b[0;34m=\u001b[0m \u001b[0mself\u001b[0m\u001b[0;34m.\u001b[0m\u001b[0mcon\u001b[0m\u001b[0;34m.\u001b[0m\u001b[0mpost\u001b[0m\u001b[0;34m(\u001b[0m\u001b[0;34m'community/users/'\u001b[0m \u001b[0;34m+\u001b[0m \u001b[0musername\u001b[0m \u001b[0;34m+\u001b[0m \u001b[0;34m'/delete'\u001b[0m\u001b[0;34m,\u001b[0m\u001b[0mself\u001b[0m\u001b[0;34m.\u001b[0m\u001b[0m_postdata\u001b[0m\u001b[0;34m(\u001b[0m\u001b[0;34m)\u001b[0m\u001b[0;34m)\u001b[0m\u001b[0;34m\u001b[0m\u001b[0;34m\u001b[0m\u001b[0m\n\u001b[0m\u001b[1;32m    823\u001b[0m         \u001b[0;32mif\u001b[0m \u001b[0mresp\u001b[0m\u001b[0;34m:\u001b[0m\u001b[0;34m\u001b[0m\u001b[0;34m\u001b[0m\u001b[0m\n\u001b[1;32m    824\u001b[0m             \u001b[0;32mreturn\u001b[0m \u001b[0mresp\u001b[0m\u001b[0;34m.\u001b[0m\u001b[0mget\u001b[0m\u001b[0;34m(\u001b[0m\u001b[0;34m'success'\u001b[0m\u001b[0;34m)\u001b[0m\u001b[0;34m\u001b[0m\u001b[0;34m\u001b[0m\u001b[0m\n",
      "\u001b[0;32m~/anaconda3/lib/python3.7/site-packages/arcgis/_impl/connection.py\u001b[0m in \u001b[0;36mpost\u001b[0;34m(self, path, postdata, files, ssl, compress, is_retry, use_ordered_dict, add_token, verify_cert, token, try_json, out_folder, file_name, force_bytes, add_headers)\u001b[0m\n\u001b[1;32m   1157\u001b[0m                                          verify_cert=verify_cert, is_retry=True)\n\u001b[1;32m   1158\u001b[0m \u001b[0;34m\u001b[0m\u001b[0m\n\u001b[0;32m-> 1159\u001b[0;31m                 \u001b[0mself\u001b[0m\u001b[0;34m.\u001b[0m\u001b[0m_handle_json_error\u001b[0m\u001b[0;34m(\u001b[0m\u001b[0mresp_json\u001b[0m\u001b[0;34m[\u001b[0m\u001b[0;34m'error'\u001b[0m\u001b[0;34m]\u001b[0m\u001b[0;34m,\u001b[0m \u001b[0merrorcode\u001b[0m\u001b[0;34m)\u001b[0m\u001b[0;34m\u001b[0m\u001b[0;34m\u001b[0m\u001b[0m\n\u001b[0m\u001b[1;32m   1160\u001b[0m                 \u001b[0;32mreturn\u001b[0m \u001b[0;32mNone\u001b[0m\u001b[0;34m\u001b[0m\u001b[0;34m\u001b[0m\u001b[0m\n\u001b[1;32m   1161\u001b[0m \u001b[0;34m\u001b[0m\u001b[0m\n",
      "\u001b[0;32m~/anaconda3/lib/python3.7/site-packages/arcgis/_impl/connection.py\u001b[0m in \u001b[0;36m_handle_json_error\u001b[0;34m(self, error, errorcode)\u001b[0m\n\u001b[1;32m   1178\u001b[0m \u001b[0;34m\u001b[0m\u001b[0m\n\u001b[1;32m   1179\u001b[0m         \u001b[0merrormessage\u001b[0m \u001b[0;34m=\u001b[0m \u001b[0merrormessage\u001b[0m \u001b[0;34m+\u001b[0m \u001b[0;34m\"\\n(Error Code: \"\u001b[0m \u001b[0;34m+\u001b[0m \u001b[0mstr\u001b[0m\u001b[0;34m(\u001b[0m\u001b[0merrorcode\u001b[0m\u001b[0;34m)\u001b[0m \u001b[0;34m+\u001b[0m\u001b[0;34m\")\"\u001b[0m\u001b[0;34m\u001b[0m\u001b[0;34m\u001b[0m\u001b[0m\n\u001b[0;32m-> 1180\u001b[0;31m         \u001b[0;32mraise\u001b[0m \u001b[0mRuntimeError\u001b[0m\u001b[0;34m(\u001b[0m\u001b[0merrormessage\u001b[0m\u001b[0;34m)\u001b[0m\u001b[0;34m\u001b[0m\u001b[0;34m\u001b[0m\u001b[0m\n\u001b[0m\u001b[1;32m   1181\u001b[0m \u001b[0;34m\u001b[0m\u001b[0m\n\u001b[1;32m   1182\u001b[0m \u001b[0;32mclass\u001b[0m \u001b[0m_StrictURLopener\u001b[0m\u001b[0;34m(\u001b[0m\u001b[0mrequest\u001b[0m\u001b[0;34m.\u001b[0m\u001b[0mFancyURLopener\u001b[0m\u001b[0;34m)\u001b[0m\u001b[0;34m:\u001b[0m\u001b[0;34m\u001b[0m\u001b[0;34m\u001b[0m\u001b[0m\n",
      "\u001b[0;31mRuntimeError\u001b[0m: Unable to delete user. User must not own items or groups.\n(Error Code: 400)"
     ]
    }
   ],
   "source": [
    "user.delete()"
   ]
  },
  {
   "cell_type": "code",
   "execution_count": 175,
   "metadata": {},
   "outputs": [
    {
     "data": {
      "text/plain": [
       "True"
      ]
     },
     "execution_count": 175,
     "metadata": {},
     "output_type": "execute_result"
    }
   ],
   "source": [
    "# Delete user, reassigning content to myself\n",
    "\n",
    "user.delete(reassign_to=gis.users.me.username)"
   ]
  },
  {
   "cell_type": "markdown",
   "metadata": {},
   "source": [
    "# Cloning Content"
   ]
  },
  {
   "cell_type": "markdown",
   "metadata": {},
   "source": [
    "We need two GIS connections this time."
   ]
  },
  {
   "cell_type": "code",
   "execution_count": 176,
   "metadata": {},
   "outputs": [],
   "source": [
    "# connect to \"source\" GIS\n",
    "gis_source = GIS(\n",
    "  profile='joshdbs',\n",
    "  set_active=False\n",
    ")\n",
    "\n",
    "# connect to \"destination\" GIS\n",
    "gis = GIS(profile='portal')"
   ]
  },
  {
   "cell_type": "markdown",
   "metadata": {},
   "source": [
    "Find the item we want to clone."
   ]
  },
  {
   "cell_type": "code",
   "execution_count": 177,
   "metadata": {},
   "outputs": [
    {
     "data": {
      "text/plain": [
       "[<Item title:\"Lubbock_Crimes_Fictional_Data\" type:Feature Layer Collection owner:joshdbs>,\n",
       " <Item title:\"Crimes 3\" type:Feature Layer Collection owner:joshdbs>]"
      ]
     },
     "execution_count": 177,
     "metadata": {},
     "output_type": "execute_result"
    }
   ],
   "source": [
    "items_to_clone = gis_source.content.search(\n",
    "    query='owner: joshdbs AND title: crimes',\n",
    "    item_type='Feature Layer'\n",
    ")\n",
    "item"
   ]
  },
  {
   "cell_type": "markdown",
   "metadata": {},
   "source": [
    "Finally, we will use `clone_items`."
   ]
  },
  {
   "cell_type": "code",
   "execution_count": 178,
   "metadata": {},
   "outputs": [
    {
     "data": {
      "text/plain": [
       "[<Item title:\"Crimes 3\" type:Feature Layer Collection owner:jpeterson>]"
      ]
     },
     "execution_count": 178,
     "metadata": {},
     "output_type": "execute_result"
    }
   ],
   "source": [
    "# clone items\n",
    "gis.content.clone_items(items=items_to_clone)"
   ]
  },
  {
   "cell_type": "markdown",
   "metadata": {},
   "source": [
    "Let's search our destination GIS to see the cloned item."
   ]
  },
  {
   "cell_type": "code",
   "execution_count": 179,
   "metadata": {},
   "outputs": [
    {
     "data": {
      "text/plain": [
       "[<Item title:\"Crimes\" type:Feature Layer Collection owner:swuser.1>,\n",
       " <Item title:\"Crimes 4\" type:Feature Layer Collection owner:jpeterson>,\n",
       " <Item title:\"Crimes 6\" type:Feature Layer Collection owner:jpeterson>,\n",
       " <Item title:\"Crimes 3\" type:Feature Layer Collection owner:jpeterson>,\n",
       " <Item title:\"Crimes 5\" type:Feature Layer Collection owner:jpeterson>,\n",
       " <Item title:\"Lubbock_Crimes_Fictional_Data\" type:Feature Layer Collection owner:jpeterson>]"
      ]
     },
     "execution_count": 179,
     "metadata": {},
     "output_type": "execute_result"
    }
   ],
   "source": [
    "items = gis.content.search(\n",
    "    query='title: crimes',\n",
    "    item_type='Feature Layer'\n",
    ")\n",
    "items"
   ]
  },
  {
   "cell_type": "markdown",
   "metadata": {},
   "source": [
    "# Understand your GIS"
   ]
  },
  {
   "cell_type": "markdown",
   "metadata": {},
   "source": [
    "Let's connect to our GIS."
   ]
  },
  {
   "cell_type": "code",
   "execution_count": 180,
   "metadata": {},
   "outputs": [
    {
     "data": {
      "text/html": [
       "GIS @ <a href=\"https://DBSNE.maps.arcgis.com\">https://DBSNE.maps.arcgis.com</a>"
      ],
      "text/plain": [
       "GIS @ https://DBSNE.maps.arcgis.com version:7.1"
      ]
     },
     "execution_count": 180,
     "metadata": {},
     "output_type": "execute_result"
    }
   ],
   "source": [
    "gis = GIS(profile='joshdbs')\n",
    "gis"
   ]
  },
  {
   "cell_type": "markdown",
   "metadata": {},
   "source": [
    "## GIS History"
   ]
  },
  {
   "cell_type": "markdown",
   "metadata": {},
   "source": [
    "As the admin of a GIS, we have access to the history of our GIS.\n",
    "\n",
    "Let's use `matplotlib` and `pandas` to visualize a few things."
   ]
  },
  {
   "cell_type": "code",
   "execution_count": 183,
   "metadata": {},
   "outputs": [
    {
     "data": {
      "text/html": [
       "<div>\n",
       "<style scoped>\n",
       "    .dataframe tbody tr th:only-of-type {\n",
       "        vertical-align: middle;\n",
       "    }\n",
       "\n",
       "    .dataframe tbody tr th {\n",
       "        vertical-align: top;\n",
       "    }\n",
       "\n",
       "    .dataframe thead th {\n",
       "        text-align: right;\n",
       "    }\n",
       "</style>\n",
       "<table border=\"1\" class=\"dataframe\">\n",
       "  <thead>\n",
       "    <tr style=\"text-align: right;\">\n",
       "      <th></th>\n",
       "      <th>id</th>\n",
       "      <th>idType</th>\n",
       "      <th>orgId</th>\n",
       "      <th>owner</th>\n",
       "      <th>actor</th>\n",
       "      <th>ip</th>\n",
       "      <th>action</th>\n",
       "      <th>created</th>\n",
       "      <th>created_utc</th>\n",
       "      <th>request</th>\n",
       "      <th>reqId</th>\n",
       "      <th>clientId</th>\n",
       "      <th>data</th>\n",
       "    </tr>\n",
       "  </thead>\n",
       "  <tbody>\n",
       "    <tr>\n",
       "      <th>0</th>\n",
       "      <td>camrine_DBSNE</td>\n",
       "      <td>u</td>\n",
       "      <td>BteRGjYsGtVEXzaX</td>\n",
       "      <td>NaN</td>\n",
       "      <td>camrine_DBSNE</td>\n",
       "      <td>18.210.1.103</td>\n",
       "      <td>failedlogin</td>\n",
       "      <td>1558369363015</td>\n",
       "      <td>May 20, 2019 4:22:43 PM</td>\n",
       "      <td>/sharing/rest/generateToken</td>\n",
       "      <td>2e927422586e4a0a85dbae1468479971</td>\n",
       "      <td>ref.http://www.arcgis.com</td>\n",
       "      <td>NaN</td>\n",
       "    </tr>\n",
       "    <tr>\n",
       "      <th>1</th>\n",
       "      <td>camrine_DBSNE</td>\n",
       "      <td>u</td>\n",
       "      <td>BteRGjYsGtVEXzaX</td>\n",
       "      <td>NaN</td>\n",
       "      <td>camrine_DBSNE</td>\n",
       "      <td>18.210.1.103</td>\n",
       "      <td>failedlogin</td>\n",
       "      <td>1558373024723</td>\n",
       "      <td>May 20, 2019 5:23:44 PM</td>\n",
       "      <td>/sharing/rest/generateToken</td>\n",
       "      <td>637fbd75a5ac4fa6a7dd4f2846c3c6b1</td>\n",
       "      <td>ref.http://www.arcgis.com</td>\n",
       "      <td>NaN</td>\n",
       "    </tr>\n",
       "    <tr>\n",
       "      <th>2</th>\n",
       "      <td>camrine_DBSNE</td>\n",
       "      <td>u</td>\n",
       "      <td>BteRGjYsGtVEXzaX</td>\n",
       "      <td>NaN</td>\n",
       "      <td>camrine_DBSNE</td>\n",
       "      <td>198.102.34.250</td>\n",
       "      <td>login</td>\n",
       "      <td>1558373050264</td>\n",
       "      <td>May 20, 2019 5:24:10 PM</td>\n",
       "      <td>/sharing/generateToken</td>\n",
       "      <td>7708e2278db04a2c99ede79d506c7a75</td>\n",
       "      <td>ref.https://CAMRINE.esri.com:6143/geoevent/adm...</td>\n",
       "      <td>NaN</td>\n",
       "    </tr>\n",
       "    <tr>\n",
       "      <th>3</th>\n",
       "      <td>nick9534@esri.com_DBSNE</td>\n",
       "      <td>u</td>\n",
       "      <td>BteRGjYsGtVEXzaX</td>\n",
       "      <td>NaN</td>\n",
       "      <td>nick9534@esri.com_DBSNE</td>\n",
       "      <td>198.102.32.250</td>\n",
       "      <td>login</td>\n",
       "      <td>1558375095538</td>\n",
       "      <td>May 20, 2019 5:58:15 PM</td>\n",
       "      <td>/sharing/rest/oauth2/token</td>\n",
       "      <td>3a3c0cc2f7104263b69321bbafb1b35a</td>\n",
       "      <td>arcgisprodesktop</td>\n",
       "      <td>NaN</td>\n",
       "    </tr>\n",
       "    <tr>\n",
       "      <th>4</th>\n",
       "      <td>nick9534@esri.com_DBSNE</td>\n",
       "      <td>u</td>\n",
       "      <td>BteRGjYsGtVEXzaX</td>\n",
       "      <td>NaN</td>\n",
       "      <td>nick9534@esri.com_DBSNE</td>\n",
       "      <td>198.102.32.250</td>\n",
       "      <td>login</td>\n",
       "      <td>1558375096442</td>\n",
       "      <td>May 20, 2019 5:58:16 PM</td>\n",
       "      <td>/sharing/rest/oauth2/token</td>\n",
       "      <td>10ad78694ca6405e9bf3a7a51ffee314</td>\n",
       "      <td>arcgisprodesktop</td>\n",
       "      <td>NaN</td>\n",
       "    </tr>\n",
       "  </tbody>\n",
       "</table>\n",
       "</div>"
      ],
      "text/plain": [
       "                        id idType             orgId owner  \\\n",
       "0            camrine_DBSNE      u  BteRGjYsGtVEXzaX   NaN   \n",
       "1            camrine_DBSNE      u  BteRGjYsGtVEXzaX   NaN   \n",
       "2            camrine_DBSNE      u  BteRGjYsGtVEXzaX   NaN   \n",
       "3  nick9534@esri.com_DBSNE      u  BteRGjYsGtVEXzaX   NaN   \n",
       "4  nick9534@esri.com_DBSNE      u  BteRGjYsGtVEXzaX   NaN   \n",
       "\n",
       "                     actor              ip       action        created  \\\n",
       "0            camrine_DBSNE    18.210.1.103  failedlogin  1558369363015   \n",
       "1            camrine_DBSNE    18.210.1.103  failedlogin  1558373024723   \n",
       "2            camrine_DBSNE  198.102.34.250        login  1558373050264   \n",
       "3  nick9534@esri.com_DBSNE  198.102.32.250        login  1558375095538   \n",
       "4  nick9534@esri.com_DBSNE  198.102.32.250        login  1558375096442   \n",
       "\n",
       "               created_utc                      request  \\\n",
       "0  May 20, 2019 4:22:43 PM  /sharing/rest/generateToken   \n",
       "1  May 20, 2019 5:23:44 PM  /sharing/rest/generateToken   \n",
       "2  May 20, 2019 5:24:10 PM       /sharing/generateToken   \n",
       "3  May 20, 2019 5:58:15 PM   /sharing/rest/oauth2/token   \n",
       "4  May 20, 2019 5:58:16 PM   /sharing/rest/oauth2/token   \n",
       "\n",
       "                              reqId  \\\n",
       "0  2e927422586e4a0a85dbae1468479971   \n",
       "1  637fbd75a5ac4fa6a7dd4f2846c3c6b1   \n",
       "2  7708e2278db04a2c99ede79d506c7a75   \n",
       "3  3a3c0cc2f7104263b69321bbafb1b35a   \n",
       "4  10ad78694ca6405e9bf3a7a51ffee314   \n",
       "\n",
       "                                            clientId data  \n",
       "0                          ref.http://www.arcgis.com  NaN  \n",
       "1                          ref.http://www.arcgis.com  NaN  \n",
       "2  ref.https://CAMRINE.esri.com:6143/geoevent/adm...  NaN  \n",
       "3                                   arcgisprodesktop  NaN  \n",
       "4                                   arcgisprodesktop  NaN  "
      ]
     },
     "execution_count": 183,
     "metadata": {},
     "output_type": "execute_result"
    }
   ],
   "source": [
    "# notebook magic\n",
    "%matplotlib inline\n",
    "\n",
    "# dependencies\n",
    "import datetime\n",
    "import pandas as pd\n",
    "\n",
    "# set up a time interval\n",
    "then = datetime.datetime.now() - datetime.timedelta(days=10)\n",
    "\n",
    "# get the history for our GIS as CSV, then read that with pandas\n",
    "df = pd.read_csv(gis.admin.history(start_date=then, num=100000))\n",
    "\n",
    "# preview our dataset\n",
    "df.head()"
   ]
  },
  {
   "cell_type": "markdown",
   "metadata": {},
   "source": [
    "Let's see what our data looks like as a chart."
   ]
  },
  {
   "cell_type": "code",
   "execution_count": 184,
   "metadata": {},
   "outputs": [
    {
     "data": {
      "text/plain": [
       "<matplotlib.axes._subplots.AxesSubplot at 0x1165bc550>"
      ]
     },
     "execution_count": 184,
     "metadata": {},
     "output_type": "execute_result"
    },
    {
     "data": {
      "image/png": "[encoded data removed]",
      "text/plain": [
       "<Figure size 432x288 with 1 Axes>"
      ]
     },
     "metadata": {
      "needs_background": "light"
     },
     "output_type": "display_data"
    }
   ],
   "source": [
    "df.action.value_counts().plot.bar()"
   ]
  },
  {
   "cell_type": "markdown",
   "metadata": {},
   "source": [
    "## Enterprise Logs"
   ]
  },
  {
   "cell_type": "markdown",
   "metadata": {},
   "source": [
    "Next, let's check out the logs from an instance of ArcGIS Enterprise."
   ]
  },
  {
   "cell_type": "code",
   "execution_count": 185,
   "metadata": {},
   "outputs": [
    {
     "data": {
      "text/plain": [
       "<Logs at https://esri.northeurope.cloudapp.azure.com/portal/portaladmin/logs>"
      ]
     },
     "execution_count": 185,
     "metadata": {},
     "output_type": "execute_result"
    }
   ],
   "source": [
    "gis = GIS(profile='portal')\n",
    "logs = gis.admin.logs\n",
    "logs"
   ]
  },
  {
   "cell_type": "markdown",
   "metadata": {},
   "source": [
    "What are our current log settings?"
   ]
  },
  {
   "cell_type": "code",
   "execution_count": 187,
   "metadata": {},
   "outputs": [
    {
     "data": {
      "text/plain": [
       "{'logDir': 'C:\\\\portalforarcgis\\\\content\\\\arcgisportal\\\\logs\\\\',\n",
       " 'logLevel': 'WARNING',\n",
       " 'maxErrorReportsCount': 10,\n",
       " 'maxLogFileAge': 90,\n",
       " 'usageMeteringEnabled': False}"
      ]
     },
     "execution_count": 187,
     "metadata": {},
     "output_type": "execute_result"
    }
   ],
   "source": [
    "logs.settings"
   ]
  },
  {
   "cell_type": "markdown",
   "metadata": {},
   "source": [
    "We can query the logs."
   ]
  },
  {
   "cell_type": "code",
   "execution_count": 188,
   "metadata": {},
   "outputs": [],
   "source": [
    "logs.query?"
   ]
  },
  {
   "cell_type": "code",
   "execution_count": 189,
   "metadata": {},
   "outputs": [
    {
     "data": {
      "text/html": [
       "<div>\n",
       "<style scoped>\n",
       "    .dataframe tbody tr th:only-of-type {\n",
       "        vertical-align: middle;\n",
       "    }\n",
       "\n",
       "    .dataframe tbody tr th {\n",
       "        vertical-align: top;\n",
       "    }\n",
       "\n",
       "    .dataframe thead th {\n",
       "        text-align: right;\n",
       "    }\n",
       "</style>\n",
       "<table border=\"1\" class=\"dataframe\">\n",
       "  <thead>\n",
       "    <tr style=\"text-align: right;\">\n",
       "      <th></th>\n",
       "      <th>code</th>\n",
       "      <th>elapsed</th>\n",
       "      <th>machine</th>\n",
       "      <th>message</th>\n",
       "      <th>methodName</th>\n",
       "      <th>process</th>\n",
       "      <th>requestID</th>\n",
       "      <th>source</th>\n",
       "      <th>thread</th>\n",
       "      <th>time</th>\n",
       "      <th>type</th>\n",
       "      <th>user</th>\n",
       "    </tr>\n",
       "  </thead>\n",
       "  <tbody>\n",
       "    <tr>\n",
       "      <th>0</th>\n",
       "      <td>217060</td>\n",
       "      <td></td>\n",
       "      <td>GISFORSW-BASE.ZYZXGWFJWVIUXHXD4VJXTZE5OG.FX.IN...</td>\n",
       "      <td>The database server was found to be stopped. R...</td>\n",
       "      <td></td>\n",
       "      <td>3880</td>\n",
       "      <td></td>\n",
       "      <td>Portal</td>\n",
       "      <td>1</td>\n",
       "      <td>1559208096479</td>\n",
       "      <td>WARNING</td>\n",
       "      <td></td>\n",
       "    </tr>\n",
       "    <tr>\n",
       "      <th>1</th>\n",
       "      <td>217060</td>\n",
       "      <td></td>\n",
       "      <td>GISFORSW-BASE.ZYZXGWFJWVIUXHXD4VJXTZE5OG.FX.IN...</td>\n",
       "      <td>The database server was found to be stopped. R...</td>\n",
       "      <td></td>\n",
       "      <td>3880</td>\n",
       "      <td></td>\n",
       "      <td>Portal</td>\n",
       "      <td>1</td>\n",
       "      <td>1559202027546</td>\n",
       "      <td>WARNING</td>\n",
       "      <td></td>\n",
       "    </tr>\n",
       "    <tr>\n",
       "      <th>2</th>\n",
       "      <td>217060</td>\n",
       "      <td></td>\n",
       "      <td>GISFORSW-BASE.ZYZXGWFJWVIUXHXD4VJXTZE5OG.FX.IN...</td>\n",
       "      <td>The database server was found to be stopped. R...</td>\n",
       "      <td></td>\n",
       "      <td>3880</td>\n",
       "      <td></td>\n",
       "      <td>Portal</td>\n",
       "      <td>1</td>\n",
       "      <td>1559195035098</td>\n",
       "      <td>WARNING</td>\n",
       "      <td></td>\n",
       "    </tr>\n",
       "    <tr>\n",
       "      <th>3</th>\n",
       "      <td>219999</td>\n",
       "      <td></td>\n",
       "      <td>GISFORSW-BASE.ZYZXGWFJWVIUXHXD4VJXTZE5OG.FX.IN...</td>\n",
       "      <td>Failed to delete user 'obi_wan_esri'. Unable ...</td>\n",
       "      <td></td>\n",
       "      <td>10808</td>\n",
       "      <td></td>\n",
       "      <td>Sharing</td>\n",
       "      <td>1</td>\n",
       "      <td>1559158872545</td>\n",
       "      <td>WARNING</td>\n",
       "      <td>jpeterson</td>\n",
       "    </tr>\n",
       "    <tr>\n",
       "      <th>4</th>\n",
       "      <td>219999</td>\n",
       "      <td></td>\n",
       "      <td>GISFORSW-BASE.ZYZXGWFJWVIUXHXD4VJXTZE5OG.FX.IN...</td>\n",
       "      <td>Failed to delete user 'obi_wan_esri'. User ca...</td>\n",
       "      <td></td>\n",
       "      <td>10808</td>\n",
       "      <td></td>\n",
       "      <td>Sharing</td>\n",
       "      <td>1</td>\n",
       "      <td>1559158872545</td>\n",
       "      <td>WARNING</td>\n",
       "      <td>jpeterson</td>\n",
       "    </tr>\n",
       "  </tbody>\n",
       "</table>\n",
       "</div>"
      ],
      "text/plain": [
       "     code elapsed                                            machine  \\\n",
       "0  217060          GISFORSW-BASE.ZYZXGWFJWVIUXHXD4VJXTZE5OG.FX.IN...   \n",
       "1  217060          GISFORSW-BASE.ZYZXGWFJWVIUXHXD4VJXTZE5OG.FX.IN...   \n",
       "2  217060          GISFORSW-BASE.ZYZXGWFJWVIUXHXD4VJXTZE5OG.FX.IN...   \n",
       "3  219999          GISFORSW-BASE.ZYZXGWFJWVIUXHXD4VJXTZE5OG.FX.IN...   \n",
       "4  219999          GISFORSW-BASE.ZYZXGWFJWVIUXHXD4VJXTZE5OG.FX.IN...   \n",
       "\n",
       "                                             message methodName process  \\\n",
       "0  The database server was found to be stopped. R...               3880   \n",
       "1  The database server was found to be stopped. R...               3880   \n",
       "2  The database server was found to be stopped. R...               3880   \n",
       "3   Failed to delete user 'obi_wan_esri'. Unable ...              10808   \n",
       "4   Failed to delete user 'obi_wan_esri'. User ca...              10808   \n",
       "\n",
       "  requestID   source thread           time     type       user  \n",
       "0             Portal      1  1559208096479  WARNING             \n",
       "1             Portal      1  1559202027546  WARNING             \n",
       "2             Portal      1  1559195035098  WARNING             \n",
       "3            Sharing      1  1559158872545  WARNING  jpeterson  \n",
       "4            Sharing      1  1559158872545  WARNING  jpeterson  "
      ]
     },
     "execution_count": 189,
     "metadata": {},
     "output_type": "execute_result"
    }
   ],
   "source": [
    "# dependencies\n",
    "import datetime\n",
    "import pandas as pd\n",
    "\n",
    "# query logs from the last 10 days\n",
    "results = logs.query(start_time=datetime.datetime.now() - datetime.timedelta(days=10))\n",
    "\n",
    "# put the logs into a pandas dataframe\n",
    "df = pd.DataFrame(results['logMessages'])\n",
    "\n",
    "df.head()"
   ]
  },
  {
   "cell_type": "markdown",
   "metadata": {},
   "source": [
    "And finally we can generate a simple chart of the severity (`type`) of our log records."
   ]
  },
  {
   "cell_type": "code",
   "execution_count": 190,
   "metadata": {},
   "outputs": [
    {
     "data": {
      "text/plain": [
       "<matplotlib.axes._subplots.AxesSubplot at 0x1191fbb00>"
      ]
     },
     "execution_count": 190,
     "metadata": {},
     "output_type": "execute_result"
    },
    {
     "data": {
      "image/png": "[encoded data removed]",
      "text/plain": [
       "<Figure size 432x288 with 1 Axes>"
      ]
     },
     "metadata": {
      "needs_background": "light"
     },
     "output_type": "display_data"
    }
   ],
   "source": [
    "# notebook magic\n",
    "%matplotlib inline\n",
    "\n",
    "# plot the dataframe\n",
    "df.type.value_counts().plot.bar()"
   ]
  },
  {
   "cell_type": "code",
   "execution_count": null,
   "metadata": {},
   "outputs": [],
   "source": []
  }
 ],
 "metadata": {
  "kernelspec": {
   "display_name": "Python 3",
   "language": "python",
   "name": "python3"
  },
  "language_info": {
   "codemirror_mode": {
    "name": "ipython",
    "version": 3
   },
   "file_extension": ".py",
   "mimetype": "text/x-python",
   "name": "python",
   "nbconvert_exporter": "python",
   "pygments_lexer": "ipython3",
   "version": "3.7.1"
  }
 },
 "nbformat": 4,
 "nbformat_minor": 2
}
